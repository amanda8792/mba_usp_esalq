{
 "cells": [
  {
   "cell_type": "markdown",
   "id": "8f11cd54",
   "metadata": {},
   "source": [
    "# Importação das Bibliotecas"
   ]
  },
  {
   "cell_type": "code",
   "execution_count": 1,
   "id": "2c23b860",
   "metadata": {},
   "outputs": [],
   "source": [
    "# Importação das Bibliotecas\n",
    "\n",
    "import pandas as pd\n",
    "import numpy as np\n",
    "import matplotlib.pyplot as plt\n",
    "import seaborn as sns\n",
    "from tabulate import tabulate\n",
    "from sklearn.preprocessing import LabelEncoder\n",
    "from sklearn.impute import SimpleImputer\n",
    "from sklearn.decomposition import PCA\n",
    "from sklearn.model_selection import train_test_split, GridSearchCV\n",
    "from sklearn.tree import DecisionTreeClassifier\n",
    "from sklearn.ensemble import RandomForestClassifier\n",
    "from sklearn.metrics import accuracy_score, confusion_matrix, roc_auc_score, roc_curve, classification_report\n",
    "from scipy import stats\n",
    "from scipy.stats import binom, chisquare"
   ]
  },
  {
   "cell_type": "markdown",
   "id": "07995208",
   "metadata": {},
   "source": [
    "# Base Application Data"
   ]
  },
  {
   "cell_type": "code",
   "execution_count": 2,
   "id": "0939113e",
   "metadata": {},
   "outputs": [],
   "source": [
    "# Base Application Data\n",
    "# Carregar os dados\n",
    "\n",
    "data = pd.read_csv('application_data.csv')"
   ]
  },
  {
   "cell_type": "code",
   "execution_count": null,
   "id": "77395a34",
   "metadata": {},
   "outputs": [],
   "source": [
    "data"
   ]
  },
  {
   "cell_type": "markdown",
   "id": "49e82f23",
   "metadata": {},
   "source": [
    "# Selecao das colunas apartir de Analise Qualitativa"
   ]
  },
  {
   "cell_type": "code",
   "execution_count": 3,
   "id": "9e67097d",
   "metadata": {},
   "outputs": [],
   "source": [
    "# Selecao das colunas apartir de Analise Qualitativa\n",
    "\n",
    "# Visão Geral das Colunas Selecionadas\n",
    "\n",
    "# Relação das colunas com valores Numéricos\n",
    "col_numericas = ['DAYS_BIRTH', 'DAYS_EMPLOYED', 'EXT_SOURCE_2', 'AMT_ANNUITY', \n",
    "                 'AMT_GOODS_PRICE', 'DAYS_REGISTRATION', 'AMT_CREDIT', 'AMT_INCOME_TOTAL', \n",
    "                 'CNT_CHILDREN', 'CNT_FAM_MEMBERS', 'FLAG_PHONE', 'REGION_RATING_CLIENT', \n",
    "                 'TARGET']\n",
    "# 13 colunas\n",
    "\n",
    "# Relação das colunas com valores Categóricos \n",
    "col_texto = ['CODE_GENDER', 'FLAG_OWN_CAR', 'FLAG_OWN_REALTY','NAME_CONTRACT_TYPE']\n",
    "# 9 colunas \n",
    "colunas_selecionadas = ['DAYS_BIRTH', 'DAYS_EMPLOYED', 'EXT_SOURCE_2', 'AMT_ANNUITY', \n",
    "                 'AMT_GOODS_PRICE', 'DAYS_REGISTRATION', 'AMT_CREDIT', 'AMT_INCOME_TOTAL', \n",
    "                 'CNT_CHILDREN', 'CNT_FAM_MEMBERS', 'FLAG_PHONE', 'REGION_RATING_CLIENT', \n",
    "                 'TARGET','CODE_GENDER', 'FLAG_OWN_CAR', 'FLAG_OWN_REALTY','NAME_CONTRACT_TYPE'\n",
    "] \n",
    "\n",
    "df_dados = data[colunas_selecionadas]"
   ]
  },
  {
   "cell_type": "code",
   "execution_count": null,
   "id": "61be3dd2",
   "metadata": {},
   "outputs": [],
   "source": [
    "df_dados.info()"
   ]
  },
  {
   "cell_type": "code",
   "execution_count": null,
   "id": "50535f22",
   "metadata": {},
   "outputs": [],
   "source": [
    "# dados numericos\n",
    "df_num = data[col_numericas]\n",
    "df_num"
   ]
  },
  {
   "cell_type": "code",
   "execution_count": null,
   "id": "6eac8873",
   "metadata": {},
   "outputs": [],
   "source": [
    "# dados texto\n",
    "df_texto = data[col_texto]\n",
    "df_texto"
   ]
  },
  {
   "cell_type": "code",
   "execution_count": null,
   "id": "f89314cf",
   "metadata": {},
   "outputs": [],
   "source": []
  },
  {
   "cell_type": "markdown",
   "id": "7d713cef",
   "metadata": {},
   "source": [
    "# Analise dos dados\n",
    "## Colunas com valores numéricos"
   ]
  },
  {
   "cell_type": "code",
   "execution_count": null,
   "id": "66a0a4e6",
   "metadata": {},
   "outputs": [],
   "source": [
    "# Analise dos dados\n",
    "\n",
    "# Colunas com valores numéricos\n",
    "# - Análises da Distribuição das colunas\n",
    "# -- Estatísticas Descritivas\n",
    "# -- Analise de dados nulos\n",
    "# --- Quantidade de valores nulos\n",
    "# --- Porcentagem de valores nulos\n",
    "\n",
    "# Colunas com valores categóricos (texto)\n",
    "# - Análises da Distribuição de valores\n",
    "# -- Estatísticas Descritivas\n",
    "# -- Analise de dados nulos\n",
    "# --- Quantidade de valores nulos\n",
    "# --- Porcentagem de valores nulos\n",
    "\n",
    "# -------------------------------------------------------------- #\n",
    "\n",
    "# Analise dos dados\n",
    "# Colunas com valores numéricos\n",
    "\n",
    "print('Análises de Distribuição das colunas de probabilidade AMT_CREDIT, AMT_INCOME_TOTAL, CNT_CHILDREN: ')\n",
    "\n",
    "colunas_selecionadas = [['AMT_CREDIT', 'AMT_INCOME_TOTAL', 'CNT_CHILDREN']]\n",
    "\n",
    "# Configurar estilo do seaborn\n",
    "sns.set(style=\"whitegrid\")\n",
    "\n",
    "# Supondo que df seja o DataFrame original\n",
    "df_01 = df_dados[['AMT_CREDIT', 'AMT_INCOME_TOTAL', 'CNT_CHILDREN']]\n",
    "\n",
    "# Plotar histogramas e gráficos de densidade para verificar a distribuição\n",
    "fig, axes = plt.subplots(3, 2, figsize=(14, 12))\n",
    "\n",
    "for i, col in enumerate(['AMT_CREDIT', 'AMT_INCOME_TOTAL', 'CNT_CHILDREN']):\n",
    "    # Histograma\n",
    "    sns.histplot(df_01[col].dropna(), kde=False, bins=30, ax=axes[i, 0])\n",
    "    axes[i, 0].set_title(f'Histograma de {col}')\n",
    "    \n",
    "    # Gráfico de densidade\n",
    "    sns.kdeplot(df_01[col].dropna(), ax=axes[i, 1])\n",
    "    axes[i, 1].set_title(f'Gráfico de Densidade de {col}')\n",
    "\n",
    "plt.tight_layout()\n",
    "plt.show()\n",
    "\n",
    "def analisar_dados_nulos(df):\n",
    "    null_counts = df.isnull().sum()\n",
    "    null_percentages = 100 * df.isnull().mean()\n",
    "    null_summary = pd.DataFrame({\n",
    "        'Número de valores nulos': null_counts,\n",
    "        'Porcentagem de valores nulos': null_percentages\n",
    "    })\n",
    "    print(null_summary)\n",
    "\n",
    "print('Estatísticas Descritivas: ')\n",
    "print(df_01[['AMT_CREDIT', 'AMT_INCOME_TOTAL', 'CNT_CHILDREN']].describe())\n",
    "\n",
    "print('Analisando os dados nulos: ')\n",
    "analisar_dados_nulos(df_01)\n"
   ]
  },
  {
   "cell_type": "code",
   "execution_count": null,
   "id": "ad70a989",
   "metadata": {},
   "outputs": [],
   "source": [
    "print('Análises de Distribuição das colunas de probabilidade CNT_FAM_MEMBERS, DAYS_BIRTH, DAYS_EMPLOYED: ')\n",
    "\n",
    "# Configurar estilo do seaborn\n",
    "sns.set(style=\"whitegrid\")\n",
    "\n",
    "# Supondo que df seja o DataFrame original\n",
    "df_02 = df_dados[['CNT_FAM_MEMBERS', 'DAYS_BIRTH', 'DAYS_EMPLOYED']]\n",
    "\n",
    "# Plotar histogramas e gráficos de densidade para verificar a distribuição\n",
    "fig, axes = plt.subplots(3, 2, figsize=(14, 12))\n",
    "\n",
    "for i, col in enumerate(['CNT_FAM_MEMBERS', 'DAYS_BIRTH', 'DAYS_EMPLOYED']):\n",
    "    # Histograma\n",
    "    sns.histplot(df_02[col].dropna(), kde=False, bins=30, ax=axes[i, 0])\n",
    "    axes[i, 0].set_title(f'Histograma de {col}')\n",
    "    \n",
    "    # Gráfico de densidade\n",
    "    sns.kdeplot(df_02[col].dropna(), ax=axes[i, 1])\n",
    "    axes[i, 1].set_title(f'Gráfico de Densidade de {col}')\n",
    "\n",
    "plt.tight_layout()\n",
    "plt.show()\n",
    "\n",
    "print('Estatísticas Descritivas: ')\n",
    "print(df_02[['CNT_FAM_MEMBERS', 'DAYS_BIRTH', 'DAYS_EMPLOYED']].describe())\n",
    "\n",
    "print('Analisando os dados nulos: ')\n",
    "analisar_dados_nulos(df_02)\n"
   ]
  },
  {
   "cell_type": "code",
   "execution_count": null,
   "id": "d0c96f57",
   "metadata": {},
   "outputs": [],
   "source": [
    "print('Análises de Distribuição das colunas de probabilidade EXT_SOURCE_2, AMT_ANNUITY, AMT_GOODS_PRICE, DAYS_REGISTRATION: ')\n",
    "\n",
    "# Configurar estilo do seaborn\n",
    "sns.set(style=\"whitegrid\")\n",
    "\n",
    "# Supondo que df seja o DataFrame original\n",
    "df_03 = df_dados[['EXT_SOURCE_2','AMT_ANNUITY', 'AMT_GOODS_PRICE', 'DAYS_REGISTRATION']]\n",
    "\n",
    "# Plotar histogramas e gráficos de densidade para verificar a distribuição\n",
    "fig, axes = plt.subplots(4, 2, figsize=(14, 12))\n",
    "\n",
    "for i, col in enumerate(['EXT_SOURCE_2','AMT_ANNUITY', 'AMT_GOODS_PRICE', 'DAYS_REGISTRATION']):\n",
    "    # Histograma\n",
    "    sns.histplot(df_03[col].dropna(), kde=False, bins=30, ax=axes[i, 0])\n",
    "    axes[i, 0].set_title(f'Histograma de {col}')\n",
    "    \n",
    "    # Gráfico de densidade\n",
    "    sns.kdeplot(df_03[col].dropna(), ax=axes[i, 1])\n",
    "    axes[i, 1].set_title(f'Gráfico de Densidade de {col}')\n",
    "\n",
    "plt.tight_layout()\n",
    "plt.show()\n",
    "\n",
    "print('Estatísticas Descritivas: ')\n",
    "print(df_03[['EXT_SOURCE_2','AMT_ANNUITY', 'AMT_GOODS_PRICE', 'DAYS_REGISTRATION']].describe())\n",
    "\n",
    "print('Analisando os dados nulos: ')\n",
    "analisar_dados_nulos(df_03)"
   ]
  },
  {
   "cell_type": "code",
   "execution_count": null,
   "id": "53991664",
   "metadata": {},
   "outputs": [],
   "source": [
    "print('Análises de Distribuição das colunas de probabilidade FLAG_PHONE, REGION_RATING_CLIENT: ')\n",
    "\n",
    "# Configurar estilo do seaborn e paleta de cores\n",
    "sns.set(style=\"whitegrid\", palette=\"pastel\")\n",
    "\n",
    "# Supondo que df seja o DataFrame original\n",
    "df_05 = df_dados[['FLAG_PHONE','REGION_RATING_CLIENT']]\n",
    "\n",
    "# Plotar gráficos de barras para verificar a moda\n",
    "fig, axes = plt.subplots(1, 2, figsize=(14, 6))  # Ajustar o tamanho da figura\n",
    "\n",
    "for i, col in enumerate(['FLAG_PHONE','REGION_RATING_CLIENT']):\n",
    "    value_counts = df_05[col].value_counts().sort_values(ascending=False)\n",
    "    \n",
    "    # Gráfico de barras com paleta de cores pastel\n",
    "    sns.barplot(x=value_counts.index, y=value_counts.values, ax=axes[i], order=value_counts.index, palette=\"pastel\")\n",
    "    axes[i].set_title(f'Moda de {col}')\n",
    "    axes[i].set_xlabel(f'{col}')\n",
    "    axes[i].set_ylabel('Frequência')\n",
    "    \n",
    "    # Adicionar legendas em cada barra\n",
    "    for index, value in enumerate(value_counts):\n",
    "        axes[i].text(index, value, str(value), ha='center', va='bottom')\n",
    "\n",
    "plt.tight_layout()\n",
    "plt.show()\n",
    "\n",
    "print('Estatísticas Descritivas: ')\n",
    "print(df_05.describe())\n",
    "\n",
    "print('Analisando os dados nulos: ')\n",
    "\n",
    "def analisar_dados_nulos(df):\n",
    "    null_counts = df.isnull().sum()\n",
    "    null_percentages = 100 * df.isnull().mean()\n",
    "    null_summary = pd.DataFrame({\n",
    "        'Número de valores nulos': null_counts,\n",
    "        'Porcentagem de valores nulos': null_percentages\n",
    "    })\n",
    "    print(null_summary)\n",
    "\n",
    "analisar_dados_nulos(df_05)\n"
   ]
  },
  {
   "cell_type": "code",
   "execution_count": null,
   "id": "0c4031b6",
   "metadata": {},
   "outputs": [],
   "source": [
    "print('Análises de Distribuição das colunas de probabilidade TARGET: ')\n",
    "\n",
    "# Configurar estilo do seaborn e paleta de cores\n",
    "sns.set(style=\"whitegrid\", palette=\"pastel\")\n",
    "\n",
    "# Supondo que df seja o DataFrame original\n",
    "df_06 = df_dados[['TARGET']]\n",
    "\n",
    "# Plotar gráfico de barras para verificar a moda\n",
    "fig, axes = plt.subplots(1, 1, figsize=(7, 6))  # Ajustar o tamanho da figura\n",
    "\n",
    "# Calcular a moda e plotar o gráfico de barras\n",
    "value_counts = df_06['TARGET'].value_counts().sort_values(ascending=False)\n",
    "\n",
    "# Gráfico de barras com paleta de cores pastel\n",
    "sns.barplot(x=value_counts.index, y=value_counts.values, ax=axes, order=value_counts.index, palette=\"pastel\")\n",
    "axes.set_title(f'Moda de TARGET')\n",
    "axes.set_xlabel('TARGET')\n",
    "axes.set_ylabel('Frequência')\n",
    "\n",
    "# Adicionar legendas em cada barra\n",
    "for index, value in enumerate(value_counts):\n",
    "    axes.text(index, value, str(value), ha='center', va='bottom')\n",
    "\n",
    "plt.tight_layout()\n",
    "plt.show()\n",
    "\n",
    "print('Estatísticas Descritivas: ')\n",
    "print(df_06.describe())\n",
    "\n",
    "print('Analisando os dados nulos: ')\n",
    "\n",
    "def analisar_dados_nulos(df):\n",
    "    null_counts = df.isnull().sum()\n",
    "    null_percentages = 100 * df.isnull().mean()\n",
    "    null_summary = pd.DataFrame({\n",
    "        'Número de valores nulos': null_counts,\n",
    "        'Porcentagem de valores nulos': null_percentages\n",
    "    })\n",
    "    print(null_summary)\n",
    "\n",
    "analisar_dados_nulos(df_06)"
   ]
  },
  {
   "cell_type": "markdown",
   "id": "064b23de",
   "metadata": {},
   "source": [
    "# Analise dos dados\n",
    "# Colunas com valores categóricos (texto)"
   ]
  },
  {
   "cell_type": "code",
   "execution_count": null,
   "id": "b225a63c",
   "metadata": {
    "scrolled": false
   },
   "outputs": [],
   "source": [
    "# Colunas com valores categóricos (texto)\n",
    "# - Análises da Distribuição de valores\n",
    "\n",
    "# Configurar estilo do seaborn e paleta de cores\n",
    "sns.set(style=\"whitegrid\", palette=\"pastel\")\n",
    "\n",
    "df_07 = df_dados[['CODE_GENDER', 'FLAG_OWN_CAR','NAME_CONTRACT_TYPE','FLAG_OWN_REALTY']]\n",
    "\n",
    "# Plotando gráfico de barras para cada coluna\n",
    "for coluna in df_07.columns:\n",
    "    plt.figure(figsize=(8, 6))\n",
    "    ax = sns.countplot(data=df_07, x=coluna)\n",
    "    plt.title(f'Distribuição de valores para a coluna {coluna}')\n",
    "    plt.xlabel(coluna)\n",
    "    plt.ylabel('Contagem')\n",
    "    \n",
    "    # Adicionando contagens nos gráficos\n",
    "    for p in ax.patches:\n",
    "        ax.annotate(f'{p.get_height()} ({p.get_height() / len(df_07) * 100:.2f}%)',\n",
    "                    (p.get_x() + p.get_width() / 2., p.get_height()),\n",
    "                    ha='center', va='center', fontsize=10, color='black', xytext=(0, 5),\n",
    "                    textcoords='offset points')\n",
    "    \n",
    "    # Calculando a moda\n",
    "    moda = df_07[coluna].mode()[0]\n",
    "    plt.axvline(x=moda, color='r', linestyle='--', label=f'Moda: {moda}')\n",
    "    plt.legend()\n",
    "    \n",
    "    plt.show()\n",
    "\n",
    "print('Estatísticas Descritivas: ')\n",
    "print(df_07.describe())\n",
    "\n",
    "def analisar_dados_nulos(df):\n",
    "    null_counts = df.isnull().sum()\n",
    "    null_percentages = 100 * df.isnull().mean()\n",
    "    null_summary = pd.DataFrame({\n",
    "        'Número de valores nulos': null_counts,\n",
    "        'Porcentagem de valores nulos': null_percentages\n",
    "    })\n",
    "    print(null_summary)\n",
    "    \n",
    "print('Analisando os dados nulos: ')\n",
    "analisar_dados_nulos(df_07)\n",
    "\n",
    "# transformacao de texto binario - funcao dummy"
   ]
  },
  {
   "cell_type": "code",
   "execution_count": null,
   "id": "93117f9a",
   "metadata": {},
   "outputs": [],
   "source": []
  },
  {
   "cell_type": "markdown",
   "id": "7ba247b4",
   "metadata": {},
   "source": [
    "# Limpeza e Pré-processamento dos Dados"
   ]
  },
  {
   "cell_type": "code",
   "execution_count": 4,
   "id": "d87daecf",
   "metadata": {},
   "outputs": [
    {
     "name": "stdout",
     "output_type": "stream",
     "text": [
      "Número de linhas antes da remoção de linhas nulas: 307511\n",
      "Número de linhas após a remoção de linhas nulas: 306562\n",
      "Número de linhas removidas: 949\n",
      "Percentual de linhas removidas: 0.31%\n"
     ]
    }
   ],
   "source": [
    "# Limpeza e Pré-processamento dos Dados\n",
    "\n",
    "# Definindo as colunas que têm linhas nulas\n",
    "colunas_com_nulos = ['EXT_SOURCE_2', 'AMT_ANNUITY', 'AMT_GOODS_PRICE', 'CNT_FAM_MEMBERS']\n",
    "\n",
    "# Removendo linhas nulas apenas nas colunas especificadas\n",
    "df_dados_sem_nulos = df_dados.dropna(subset=colunas_com_nulos)\n",
    "\n",
    "# Calculando a quantidade de linhas removidas\n",
    "linhas_removidas = len(df_dados) - len(df_dados_sem_nulos)\n",
    "\n",
    "# Calculando a porcentagem de linhas removidas\n",
    "percentual_removido = (linhas_removidas / len(df_dados)) * 100\n",
    "\n",
    "# Verificando o tamanho do DataFrame após a remoção das linhas nulas\n",
    "print(\"Número de linhas antes da remoção de linhas nulas:\", len(df_dados))\n",
    "print(\"Número de linhas após a remoção de linhas nulas:\", len(df_dados_sem_nulos))\n",
    "print(\"Número de linhas removidas:\", linhas_removidas)\n",
    "print(f\"Percentual de linhas removidas: {percentual_removido:.2f}%\")\n"
   ]
  },
  {
   "cell_type": "code",
   "execution_count": null,
   "id": "9ae05c66",
   "metadata": {},
   "outputs": [],
   "source": [
    "df_texto"
   ]
  },
  {
   "cell_type": "markdown",
   "id": "d25a0c55",
   "metadata": {},
   "source": [
    "# Ajuste da base para o modelo estatistico\n",
    "# Tratamento das colunas com valores categóricos "
   ]
  },
  {
   "cell_type": "code",
   "execution_count": null,
   "id": "0e24980c",
   "metadata": {},
   "outputs": [],
   "source": []
  },
  {
   "cell_type": "code",
   "execution_count": null,
   "id": "180a8d89",
   "metadata": {},
   "outputs": [],
   "source": [
    "df_dados_sem_nulos.info()"
   ]
  },
  {
   "cell_type": "code",
   "execution_count": 5,
   "id": "c6f214ea",
   "metadata": {},
   "outputs": [],
   "source": [
    "# Ajuste da base para o modelo estatistico\n",
    "# Tratamento das colunas com valores categóricos \n",
    "\n",
    "# Coluna CODE_GENDER\n",
    "df_dummies_gender = pd.get_dummies(df_dados_sem_nulos['CODE_GENDER'], prefix='CODE_GENDER')\n",
    "df_dados_sem_nulos = pd.concat([df_dados_sem_nulos, df_dummies_gender], axis=1)\n",
    "# add de 03 colunas\n",
    "\n",
    "# Coluna FLAG_OWN_CAR\n",
    "df_dummies_car = pd.get_dummies(df_dados_sem_nulos['FLAG_OWN_CAR'], prefix='FLAG_CAR')\n",
    "df_dados_sem_nulos = pd.concat([df_dados_sem_nulos, df_dummies_car], axis=1)\n",
    "# add de 02 colunas\n",
    "\n",
    "# Coluna FLAG_OWN_REALTY\n",
    "df_dummies_realty = pd.get_dummies(df_dados_sem_nulos['FLAG_OWN_REALTY'], prefix='FLAG_REALTY')\n",
    "df_dados_sem_nulos = pd.concat([df_dados_sem_nulos, df_dummies_realty], axis=1)\n",
    "# add de 02 colunas\n",
    "\n",
    "# Coluna NAME_CONTRACT_TYPE\n",
    "df_dummies_contract = pd.get_dummies(df_dados_sem_nulos['NAME_CONTRACT_TYPE'], prefix='CONTRACT_TYPE')\n",
    "df_dados_sem_nulos = pd.concat([df_dados_sem_nulos, df_dummies_contract], axis=1)\n",
    "# add de 02 colunas\n",
    "\n",
    "# Excluir a coluna original (opcional)\n",
    "df_dados_sem_nulos.drop(columns=['CODE_GENDER','FLAG_OWN_CAR','FLAG_OWN_REALTY','NAME_CONTRACT_TYPE'], inplace=True)\n",
    "\n",
    "rename_dict = {\n",
    "    'CONTRACT_TYPE_Cash loans': 'CONTRACT_TYPE_Cash',\n",
    "    'CONTRACT_TYPE_Revolving loans': 'CONTRACT_TYPE_Revolving'\n",
    "}\n",
    "\n",
    "# Renomear as colunas e converter para letras minusculas\n",
    "df_dados_sem_nulos.rename(columns=rename_dict, inplace=True)\n",
    "df_dados_sem_nulos.columns = df_dados_sem_nulos.columns.str.lower()\n",
    "\n",
    "# adição total de 5 colunas"
   ]
  },
  {
   "cell_type": "markdown",
   "id": "0aaadde9",
   "metadata": {},
   "source": [
    "# Analise Estatistica dos Valores Numéricos (após a limpeza e pré-processamento dos dados)"
   ]
  },
  {
   "cell_type": "markdown",
   "id": "38a64a64",
   "metadata": {},
   "source": [
    "Analise Estatistica dos Valores Numéricos (após a limpeza e pré-processamento dos dados)\n",
    "\n",
    "\n",
    "Para realizar a análise estatística dos valores numéricos após o pré-processamento dos dados, podemos distinguir entre colunas que contêm dados discretos e colunas que contêm dados contínuos. A escolha do teste estatístico adequado e a interpretação do p-value dependem do tipo de distribuição dos dados e do objetivo da análise estatística. Vamos abordar isso com base nas informações fornecidas.\n",
    "\n",
    "1. Dados Discretos\n",
    "\n",
    "Para colunas que contêm dados discretos, podemos usar estatísticas descritivas apropriadas e, se necessário, realizar testes de hipótese específicos para dados discretos. Normalmente, isso envolve o uso de testes de proporção (como o teste binomial) ou testes qui-quadrado para verificar a associação entre variáveis categóricas.\n",
    "\n",
    "Exemplo de análise:\n",
    "\n",
    "    Variáveis de interesse: cnt_children, flag_phone, region_rating_client, etc.\n",
    "\n",
    "    Teste estatístico: Teste de proporção (binomial) para verificar se a proporção de eventos em uma variável discreta é significativamente diferente de um valor esperado.\n",
    "\n",
    "    Interpretação do p-value: O p-value mais relevante depende do teste específico. Em testes de proporção (binomial), um p-value baixo indica que a proporção observada é significativamente diferente da proporção esperada.\n",
    "\n",
    "2. Dados Contínuos\n",
    "\n",
    "Para colunas que contêm dados contínuos, as estatísticas descritivas comuns incluem média, mediana, desvio padrão, entre outros. Além disso, podemos realizar testes estatísticos como o teste t de Student para comparar médias de duas amostras independentes ou o teste de correlação de Pearson para avaliar a relação entre variáveis contínuas.\n",
    "\n",
    "Exemplo de análise:\n",
    "\n",
    "    Variáveis de interesse: amt_credit, amt_income_total, ext_source_2, etc.\n",
    "    \n",
    "    Teste estatístico: Teste t de Student para comparar médias entre dois grupos (se aplicável) ou teste de correlação de Pearson para verificar a relação entre variáveis contínuas.\n",
    "    \n",
    "    Interpretação do p-value: Um p-value baixo no teste t indica que as médias são significativamente diferentes entre os grupos comparados. No teste de correlação de Pearson, um p-value baixo indica uma correlação significativa entre as variáveis."
   ]
  },
  {
   "cell_type": "markdown",
   "id": "5eeecccf",
   "metadata": {},
   "source": [
    "Para determinar quais colunas são discretas e quais são contínuas no DataFrame fornecido (`df_dados_sem_nulos`), podemos usar critérios comuns baseados nos tipos de dados e na natureza das variáveis. Vamos analisar cada uma das colunas fornecidas:\n",
    "\n",
    "### Colunas do DataFrame `df_dados_sem_nulos`:\n",
    "- DAYS_BIRTH\n",
    "- DAYS_EMPLOYED\n",
    "- EXT_SOURCE_2\n",
    "- AMT_ANNUITY\n",
    "- AMT_GOODS_PRICE\n",
    "- DAYS_REGISTRATION\n",
    "- AMT_CREDIT\n",
    "- AMT_INCOME_TOTAL\n",
    "- CNT_CHILDREN\n",
    "- CNT_FAM_MEMBERS\n",
    "- FLAG_PHONE\n",
    "- REGION_RATING_CLIENT\n",
    "- TARGET\n",
    "\n",
    "### Análise das Colunas:\n",
    "\n",
    "**1. Discretas:**\n",
    "- **CNT_CHILDREN:** Número de crianças.\n",
    "- **CNT_FAM_MEMBERS:** Quantidade de membros na família.\n",
    "- **FLAG_PHONE:** Indica se há registro de número de telefone (usualmente binário: 0 ou 1).\n",
    "- **REGION_RATING_CLIENT:** Classificação da região onde o cliente vive (tipicamente categorizado em algumas classes).\n",
    "\n",
    "**2. Contínuas:**\n",
    "- **DAYS_BIRTH:** Quantidade de dias desde o nascimento até a data do pedido de crédito.\n",
    "- **DAYS_EMPLOYED:** Quantidade de dias desde que o cliente começou a trabalhar.\n",
    "- **EXT_SOURCE_2:** Uma métrica normalizada de uma fonte externa (potencialmente variável contínua entre 0 e 1).\n",
    "- **AMT_ANNUITY:** Valor da prestação do empréstimo.\n",
    "- **AMT_GOODS_PRICE:** Valor dos bens para os quais o empréstimo é fornecido.\n",
    "- **DAYS_REGISTRATION:** Quantidade de dias desde a última alteração no registro.\n",
    "- **AMT_CREDIT:** Valor do crédito solicitado.\n",
    "- **AMT_INCOME_TOTAL:** Renda total do aplicante.\n",
    "\n",
    "### Classificação:\n",
    "\n",
    "- **Discretas:** `CNT_CHILDREN`, `CNT_FAM_MEMBERS`, `FLAG_PHONE`, `REGION_RATING_CLIENT`\n",
    "- **Contínuas:** `DAYS_BIRTH`, `DAYS_EMPLOYED`, `EXT_SOURCE_2`, `AMT_ANNUITY`, `AMT_GOODS_PRICE`, `DAYS_REGISTRATION`, `AMT_CREDIT`, `AMT_INCOME_TOTAL`\n",
    "\n",
    "### Observações:\n",
    "\n",
    "- **Discretas:** Essas colunas geralmente contêm valores que são contáveis ou categorizáveis de forma discreta, como número de crianças ou um indicador binário.\n",
    "  \n",
    "- **Contínuas:** São variáveis que podem ter uma ampla gama de valores dentro de um intervalo específico, como idade em dias, renda total ou valores de crédito.\n",
    "\n",
    "Esta classificação pode variar dependendo do contexto específico do problema ou da análise que está sendo realizada. É sempre importante revisar as definições e os objetivos do estudo ao determinar se uma variável deve ser considerada discreta ou contínua."
   ]
  },
  {
   "cell_type": "code",
   "execution_count": null,
   "id": "d403f8b0",
   "metadata": {},
   "outputs": [],
   "source": []
  },
  {
   "cell_type": "code",
   "execution_count": null,
   "id": "134b9d6a",
   "metadata": {},
   "outputs": [],
   "source": [
    "# Analise Estatistica dos Valores Numéricos (após a limpeza e pré-processamento dos dados)\n",
    "\n",
    "# - Verificar quais colunas apresentam dados discretos\n",
    "# -- Testes Discretos: Analisar qual estatistica descritiva representa o dado: binomial...\n",
    "# -- Verificar o parâmetro 'p-value': qual pegar? o menor ou o maior p-value?\n",
    "\n",
    "# - Verificar quais colunas apresentam dados continuos\n",
    "# -- Testes Contínuos: Analisar qual estatistica descritiva representa o dado: qui-quadrado...\n",
    "# -- Verificar o parâmetro 'p-value': qual pegar? o menor ou o maior p-value?\n",
    "\n",
    "# -------------------------------------------------------------- #\n"
   ]
  },
  {
   "cell_type": "markdown",
   "id": "cd9699f1",
   "metadata": {},
   "source": [
    "## Verificar quais colunas apresentam dados discretos"
   ]
  },
  {
   "cell_type": "code",
   "execution_count": null,
   "id": "fd68f8c4",
   "metadata": {},
   "outputs": [],
   "source": [
    "# Lista de colunas discretas\n",
    "colunas_discretas = ['cnt_children', 'cnt_fam_members', 'flag_phone', 'region_rating_client','target']\n",
    "df_discretas = df_dados_sem_nulos[colunas_discretas]"
   ]
  },
  {
   "cell_type": "markdown",
   "id": "5c890111",
   "metadata": {},
   "source": [
    "## Verificar a estatististica binomial para estes casos"
   ]
  },
  {
   "cell_type": "code",
   "execution_count": null,
   "id": "d2f6e10d",
   "metadata": {},
   "outputs": [],
   "source": [
    "# Configuração do estilo do seaborn\n",
    "sns.set(style=\"whitegrid\")\n",
    "\n",
    "# Função para analisar a distribuição binomial\n",
    "def testar_distribuicao_binomial(df, coluna):\n",
    "    # Seleciona os dados da coluna\n",
    "    dados = df[coluna].dropna()\n",
    "    \n",
    "    # Verificar a frequência de valores 0 e 1\n",
    "    freq = dados.value_counts().sort_index()\n",
    "    n = len(dados)\n",
    "    p = freq[1] / n  # Probabilidade de sucesso (valor 1)\n",
    "    \n",
    "    # Frequência esperada\n",
    "    expected_freq = [n * (1 - p), n * p]\n",
    "    \n",
    "    # Teste de aderência usando Qui-Quadrado\n",
    "    chi2_stat, p_val = stats.chisquare(f_obs=freq, f_exp=expected_freq)\n",
    "       \n",
    "    # Plotagem da distribuição observada e esperada\n",
    "    fig, ax = plt.subplots(figsize=(8, 5))\n",
    "    \n",
    "    # Frequência observada\n",
    "    sns.barplot(x=freq.index, y=freq.values, alpha=0.5, color='b', label='Observada', ax=ax)\n",
    "    \n",
    "    # Frequência esperada\n",
    "    sns.barplot(x=[0, 1], y=expected_freq, alpha=0.5, color='r', label='Esperada', ax=ax)\n",
    "    \n",
    "    ax.set_title(f'Distribuição Binomial de {coluna}')\n",
    "    ax.set_xlabel(coluna)\n",
    "    ax.set_ylabel('Frequência')\n",
    "    ax.legend()\n",
    "    \n",
    "    plt.tight_layout()\n",
    "    plt.show()\n",
    "    \n",
    "    print(f'Análise da coluna {coluna}:')\n",
    "    print(f'Número de observações: {n}')\n",
    "    print(f'Frequência observada: {freq.to_dict()}')\n",
    "    print(f'Frequência esperada: {expected_freq}')\n",
    "    print(f'Estatística de Qui-Quadrado: {chi2_stat}')\n",
    "    \n",
    "    return p, p_val"
   ]
  },
  {
   "cell_type": "code",
   "execution_count": null,
   "id": "e546cb86",
   "metadata": {},
   "outputs": [],
   "source": [
    "# Executar a análise para a coluna FLAG_PHONE\n",
    "coluna_flag_phone = 'flag_phone'\n",
    "probabilidade, valor_p = testar_distribuicao_binomial(df_dados_sem_nulos, coluna_flag_phone)\n",
    "\n",
    "# Exibir os resultados\n",
    "print(\"Resultados da Análise Binomial para flag_phone:\")\n",
    "print(f\"Probabilidade de sucesso (p): {probabilidade}\")\n",
    "print(f\"Valor-p: {valor_p}\")"
   ]
  },
  {
   "cell_type": "code",
   "execution_count": null,
   "id": "88364cbf",
   "metadata": {},
   "outputs": [],
   "source": [
    "# Função modificada para analisar a distribuição binomial de qualquer coluna\n",
    "def testar_distribuicao_binomial_qualquer(df, coluna):\n",
    "    # Seleciona os dados da coluna\n",
    "    dados = df[coluna].dropna()\n",
    "    \n",
    "    # Verificar a frequência dos valores únicos\n",
    "    freq = dados.value_counts().sort_index()\n",
    "    n = len(dados)\n",
    "    \n",
    "    # Calcula as frequências esperadas para cada valor observado\n",
    "    p = [freq[val] / n for val in freq.index]\n",
    "    expected_freq = [n * prob for prob in p]\n",
    "    \n",
    "    # Teste de aderência usando Qui-Quadrado\n",
    "    chi2_stat, p_val = stats.chisquare(f_obs=freq, f_exp=expected_freq)\n",
    "        \n",
    "    # Plotagem da distribuição observada e esperada\n",
    "    fig, ax = plt.subplots(figsize=(8, 5))\n",
    "    \n",
    "    # Frequência observada\n",
    "    sns.barplot(x=freq.index, y=freq.values, alpha=0.5, color='b', label='Observada', ax=ax)\n",
    "    \n",
    "    # Frequência esperada\n",
    "    sns.barplot(x=freq.index, y=expected_freq, alpha=0.5, color='r', label='Esperada', ax=ax)\n",
    "    \n",
    "    ax.set_title(f'Distribuição de {coluna}')\n",
    "    ax.set_xlabel(coluna)\n",
    "    ax.set_ylabel('Frequência')\n",
    "    ax.legend()\n",
    "    \n",
    "    plt.tight_layout()\n",
    "    plt.show()\n",
    "    print(f'Análise da coluna {coluna}:')\n",
    "    print(f'Número de observações: {n}')\n",
    "    print(f'Frequência observada: {freq.to_dict()}')\n",
    "    print(f'Frequência esperada: {expected_freq}')\n",
    "    print(f'Estatística de Qui-Quadrado: {chi2_stat}')\n",
    "    print(f'Valor-p: {p_val}')\n",
    "    return p, p_val\n",
    "\n",
    "# Executar a análise para a coluna REGION_RATING_CLIENT\n",
    "coluna_region_rating_client = 'region_rating_client'\n",
    "probabilidade_region, valor_p_region = testar_distribuicao_binomial_qualquer(df_dados_sem_nulos, coluna_region_rating_client)\n",
    "\n",
    "# Exibir os resultados\n",
    "print(\"Resultados da Análise para region_rating_client:\")\n",
    "print(f\"Probabilidades: {probabilidade_region}\")"
   ]
  },
  {
   "cell_type": "code",
   "execution_count": null,
   "id": "477b54d1",
   "metadata": {},
   "outputs": [],
   "source": [
    "# Executar a análise para a coluna target\n",
    "coluna_target = 'target'\n",
    "probabilidade_region, valor_p_region = testar_distribuicao_binomial_qualquer(df_dados_sem_nulos, coluna_target)\n",
    "\n",
    "# Exibir os resultados\n",
    "print(\"Resultados da Análise para target:\")\n",
    "print(f\"Probabilidades: {probabilidade_region}\")"
   ]
  },
  {
   "cell_type": "code",
   "execution_count": null,
   "id": "868eb62e",
   "metadata": {},
   "outputs": [],
   "source": [
    "# Executar a análise para a coluna cnt_children\n",
    "coluna_target = 'cnt_children'\n",
    "probabilidade_region, valor_p_region = testar_distribuicao_binomial_qualquer(df_dados_sem_nulos, coluna_target)\n",
    "\n",
    "# Exibir os resultados\n",
    "print(\"Resultados da Análise para target:\")\n",
    "print(f\"Probabilidades: {probabilidade_region}\")\n",
    "print('Conclusoes: ')\n",
    "print('As probabilidades calculadas confirmam a distribuição do número de filhos: A maior parte dos dados está concentrada em 0 a 2 filhos. Conforme o número de filhos aumenta, a probabilidade diminui drasticamente, o que é consistente com a distribuição esperada em uma população.')"
   ]
  },
  {
   "cell_type": "code",
   "execution_count": null,
   "id": "997e606c",
   "metadata": {},
   "outputs": [],
   "source": [
    "# Executar a análise para a coluna cnt_fam_members\n",
    "coluna_target = 'cnt_fam_members'\n",
    "probabilidade_region, valor_p_region = testar_distribuicao_binomial_qualquer(df_dados_sem_nulos, coluna_target)\n",
    "\n",
    "# Exibir os resultados\n",
    "print(\"Resultados da Análise para target:\")\n",
    "print(f\"Probabilidades: {probabilidade_region}\")\n",
    "print('Conclusoes:')\n",
    "print('As probabilidades calculadas confirmam a distribuição dos membros da família: A maior parte dos dados está concentrada entre 1 a 4 membros da família.Conforme o número de membros da família aumenta, a probabilidade diminui drasticamente, o que é consistente com a distribuição esperada em uma população.')"
   ]
  },
  {
   "cell_type": "code",
   "execution_count": null,
   "id": "17b4e42a",
   "metadata": {},
   "outputs": [],
   "source": [
    "# - Verificar quais colunas apresentam dados continuos\n",
    "# -- Testes Contínuos: Analisar qual estatistica descritiva representa o dado: qui-quadrado...\n",
    "# -- Verificar o parâmetro 'p-value': qual pegar? o menor ou o maior p-value?"
   ]
  },
  {
   "cell_type": "markdown",
   "id": "0581cda5",
   "metadata": {},
   "source": [
    "## Verificar quais colunas apresentam dados continuos"
   ]
  },
  {
   "cell_type": "code",
   "execution_count": null,
   "id": "52718126",
   "metadata": {},
   "outputs": [],
   "source": [
    "colunas_continuas = ['days_birth', 'days_employed', 'ext_source_2', 'amt_annuity', \n",
    "                     'amt_goods_price', 'days_registration', 'amt_credit', 'amt_income_total']\n",
    "df_continuas = df_dados_sem_nulos[colunas_continuas]\n",
    "df_continuas"
   ]
  },
  {
   "cell_type": "code",
   "execution_count": null,
   "id": "76294d58",
   "metadata": {},
   "outputs": [],
   "source": [
    "print('Verificando a distribuição Normal no conjunto de dados continuos')\n",
    "resultados = {}\n",
    "for coluna in colunas_continuas:\n",
    "    dados = df_continuas[coluna]\n",
    "    mu, std = np.mean(dados), np.std(dados)\n",
    "\n",
    "    # Calculando a estatística KS e o valor-p\n",
    "    ks_stat, p_value = stats.kstest(dados, 'norm', args=(mu, std))\n",
    "    print(coluna)\n",
    "    # Conclusão\n",
    "    alpha = 0.05,\n",
    "    if p_value < alpha:\n",
    "         print(\"Rejeitar H0: Os dados não seguem uma distribuição normal.\")\n",
    "    else:\n",
    "         print(\"Não rejeitar H0: Os dados seguem uma distribuição normal.\")\n",
    "            \n",
    "    resultados[coluna] = {\n",
    "        print(f'Estatística KS: {ks_stat}'),\n",
    "        print(f'Valor-p: {p_value}'),\n",
    "\n",
    "    }\n"
   ]
  },
  {
   "cell_type": "code",
   "execution_count": null,
   "id": "867d44d6",
   "metadata": {},
   "outputs": [],
   "source": [
    "print('Verificando a distribuição Log-normal no conjunto de dados continuos')\n",
    "resultados = {}\n",
    "for coluna in colunas_continuas:\n",
    "    dados = df_continuas[coluna]\n",
    "    \n",
    "    # Transformando os dados para a distribuição log-normal\n",
    "    dados_log = np.log(dados)\n",
    "    mu_log, std_log = np.mean(dados_log), np.std(dados_log)\n",
    "    \n",
    "    # Calculando a estatística KS e o valor-p para log-normal\n",
    "    ks_stat, p_value = stats.kstest(dados_log, 'norm', args=(mu_log, std_log))\n",
    "    print(coluna)\n",
    "    # Conclusão\n",
    "    alpha = 0.05,\n",
    "    if p_value < alpha:\n",
    "         print(\"Rejeitar H0: Os dados não seguem uma distribuição log-normal.\")\n",
    "    else:\n",
    "         print(\"Não rejeitar H0: Os dados seguem uma distribuição log-normal.\")\n",
    "            \n",
    "    resultados[coluna] = {\n",
    "        print(f'Estatística KS para Log-Normal: {ks_stat}'),\n",
    "        print(f'Valor-p para Log-Normal: {p_value}'),\n",
    "\n",
    "    }"
   ]
  },
  {
   "cell_type": "code",
   "execution_count": null,
   "id": "bd7920ec",
   "metadata": {},
   "outputs": [],
   "source": []
  },
  {
   "cell_type": "code",
   "execution_count": null,
   "id": "29d4c076",
   "metadata": {},
   "outputs": [],
   "source": [
    "df_dados_sem_nulos.info()"
   ]
  },
  {
   "cell_type": "markdown",
   "id": "72e6b65c",
   "metadata": {},
   "source": [
    "## Arvore de Decisao 1: Base df_dados_sem_nulos"
   ]
  },
  {
   "cell_type": "code",
   "execution_count": 6,
   "id": "2d45acf3",
   "metadata": {},
   "outputs": [],
   "source": [
    "# 2. Divisão do Conjunto de Dados\n",
    "# Dividimos os dados em conjuntos de treino e teste para treinar e avaliar os modelos.\n",
    "\n",
    "# Separar as features (X) e o target (y)\n",
    "X = df_dados_sem_nulos.drop(columns=['target'])\n",
    "y = df_dados_sem_nulos['target']\n",
    "\n",
    "# Transformar variáveis categóricas em variáveis dummy\n",
    "X = pd.get_dummies(X)\n",
    "\n",
    "# Dividir o conjunto de dados em treino e teste\n",
    "X_train, X_test, y_train, y_test = train_test_split(X, y, test_size=0.2, random_state=42)\n"
   ]
  },
  {
   "cell_type": "code",
   "execution_count": 7,
   "id": "ce47dfe3",
   "metadata": {},
   "outputs": [
    {
     "data": {
      "text/html": [
       "<style>#sk-container-id-1 {color: black;background-color: white;}#sk-container-id-1 pre{padding: 0;}#sk-container-id-1 div.sk-toggleable {background-color: white;}#sk-container-id-1 label.sk-toggleable__label {cursor: pointer;display: block;width: 100%;margin-bottom: 0;padding: 0.3em;box-sizing: border-box;text-align: center;}#sk-container-id-1 label.sk-toggleable__label-arrow:before {content: \"▸\";float: left;margin-right: 0.25em;color: #696969;}#sk-container-id-1 label.sk-toggleable__label-arrow:hover:before {color: black;}#sk-container-id-1 div.sk-estimator:hover label.sk-toggleable__label-arrow:before {color: black;}#sk-container-id-1 div.sk-toggleable__content {max-height: 0;max-width: 0;overflow: hidden;text-align: left;background-color: #f0f8ff;}#sk-container-id-1 div.sk-toggleable__content pre {margin: 0.2em;color: black;border-radius: 0.25em;background-color: #f0f8ff;}#sk-container-id-1 input.sk-toggleable__control:checked~div.sk-toggleable__content {max-height: 200px;max-width: 100%;overflow: auto;}#sk-container-id-1 input.sk-toggleable__control:checked~label.sk-toggleable__label-arrow:before {content: \"▾\";}#sk-container-id-1 div.sk-estimator input.sk-toggleable__control:checked~label.sk-toggleable__label {background-color: #d4ebff;}#sk-container-id-1 div.sk-label input.sk-toggleable__control:checked~label.sk-toggleable__label {background-color: #d4ebff;}#sk-container-id-1 input.sk-hidden--visually {border: 0;clip: rect(1px 1px 1px 1px);clip: rect(1px, 1px, 1px, 1px);height: 1px;margin: -1px;overflow: hidden;padding: 0;position: absolute;width: 1px;}#sk-container-id-1 div.sk-estimator {font-family: monospace;background-color: #f0f8ff;border: 1px dotted black;border-radius: 0.25em;box-sizing: border-box;margin-bottom: 0.5em;}#sk-container-id-1 div.sk-estimator:hover {background-color: #d4ebff;}#sk-container-id-1 div.sk-parallel-item::after {content: \"\";width: 100%;border-bottom: 1px solid gray;flex-grow: 1;}#sk-container-id-1 div.sk-label:hover label.sk-toggleable__label {background-color: #d4ebff;}#sk-container-id-1 div.sk-serial::before {content: \"\";position: absolute;border-left: 1px solid gray;box-sizing: border-box;top: 0;bottom: 0;left: 50%;z-index: 0;}#sk-container-id-1 div.sk-serial {display: flex;flex-direction: column;align-items: center;background-color: white;padding-right: 0.2em;padding-left: 0.2em;position: relative;}#sk-container-id-1 div.sk-item {position: relative;z-index: 1;}#sk-container-id-1 div.sk-parallel {display: flex;align-items: stretch;justify-content: center;background-color: white;position: relative;}#sk-container-id-1 div.sk-item::before, #sk-container-id-1 div.sk-parallel-item::before {content: \"\";position: absolute;border-left: 1px solid gray;box-sizing: border-box;top: 0;bottom: 0;left: 50%;z-index: -1;}#sk-container-id-1 div.sk-parallel-item {display: flex;flex-direction: column;z-index: 1;position: relative;background-color: white;}#sk-container-id-1 div.sk-parallel-item:first-child::after {align-self: flex-end;width: 50%;}#sk-container-id-1 div.sk-parallel-item:last-child::after {align-self: flex-start;width: 50%;}#sk-container-id-1 div.sk-parallel-item:only-child::after {width: 0;}#sk-container-id-1 div.sk-dashed-wrapped {border: 1px dashed gray;margin: 0 0.4em 0.5em 0.4em;box-sizing: border-box;padding-bottom: 0.4em;background-color: white;}#sk-container-id-1 div.sk-label label {font-family: monospace;font-weight: bold;display: inline-block;line-height: 1.2em;}#sk-container-id-1 div.sk-label-container {text-align: center;}#sk-container-id-1 div.sk-container {/* jupyter's `normalize.less` sets `[hidden] { display: none; }` but bootstrap.min.css set `[hidden] { display: none !important; }` so we also need the `!important` here to be able to override the default hidden behavior on the sphinx rendered scikit-learn.org. See: https://github.com/scikit-learn/scikit-learn/issues/21755 */display: inline-block !important;position: relative;}#sk-container-id-1 div.sk-text-repr-fallback {display: none;}</style><div id=\"sk-container-id-1\" class=\"sk-top-container\"><div class=\"sk-text-repr-fallback\"><pre>DecisionTreeClassifier(random_state=42)</pre><b>In a Jupyter environment, please rerun this cell to show the HTML representation or trust the notebook. <br />On GitHub, the HTML representation is unable to render, please try loading this page with nbviewer.org.</b></div><div class=\"sk-container\" hidden><div class=\"sk-item\"><div class=\"sk-estimator sk-toggleable\"><input class=\"sk-toggleable__control sk-hidden--visually\" id=\"sk-estimator-id-1\" type=\"checkbox\" checked><label for=\"sk-estimator-id-1\" class=\"sk-toggleable__label sk-toggleable__label-arrow\">DecisionTreeClassifier</label><div class=\"sk-toggleable__content\"><pre>DecisionTreeClassifier(random_state=42)</pre></div></div></div></div></div>"
      ],
      "text/plain": [
       "DecisionTreeClassifier(random_state=42)"
      ]
     },
     "execution_count": 7,
     "metadata": {},
     "output_type": "execute_result"
    }
   ],
   "source": [
    "# 3. Treinamento de um Modelo de Árvore de Decisão\n",
    "# Treinamos uma Árvore de Decisão usando DecisionTreeClassifier do Scikit-learn.\n",
    "dt_clf = DecisionTreeClassifier(random_state=42)\n",
    "dt_clf.fit(X_train, y_train)"
   ]
  },
  {
   "cell_type": "code",
   "execution_count": 8,
   "id": "7f6d027c",
   "metadata": {},
   "outputs": [
    {
     "data": {
      "text/html": [
       "<style>#sk-container-id-2 {color: black;background-color: white;}#sk-container-id-2 pre{padding: 0;}#sk-container-id-2 div.sk-toggleable {background-color: white;}#sk-container-id-2 label.sk-toggleable__label {cursor: pointer;display: block;width: 100%;margin-bottom: 0;padding: 0.3em;box-sizing: border-box;text-align: center;}#sk-container-id-2 label.sk-toggleable__label-arrow:before {content: \"▸\";float: left;margin-right: 0.25em;color: #696969;}#sk-container-id-2 label.sk-toggleable__label-arrow:hover:before {color: black;}#sk-container-id-2 div.sk-estimator:hover label.sk-toggleable__label-arrow:before {color: black;}#sk-container-id-2 div.sk-toggleable__content {max-height: 0;max-width: 0;overflow: hidden;text-align: left;background-color: #f0f8ff;}#sk-container-id-2 div.sk-toggleable__content pre {margin: 0.2em;color: black;border-radius: 0.25em;background-color: #f0f8ff;}#sk-container-id-2 input.sk-toggleable__control:checked~div.sk-toggleable__content {max-height: 200px;max-width: 100%;overflow: auto;}#sk-container-id-2 input.sk-toggleable__control:checked~label.sk-toggleable__label-arrow:before {content: \"▾\";}#sk-container-id-2 div.sk-estimator input.sk-toggleable__control:checked~label.sk-toggleable__label {background-color: #d4ebff;}#sk-container-id-2 div.sk-label input.sk-toggleable__control:checked~label.sk-toggleable__label {background-color: #d4ebff;}#sk-container-id-2 input.sk-hidden--visually {border: 0;clip: rect(1px 1px 1px 1px);clip: rect(1px, 1px, 1px, 1px);height: 1px;margin: -1px;overflow: hidden;padding: 0;position: absolute;width: 1px;}#sk-container-id-2 div.sk-estimator {font-family: monospace;background-color: #f0f8ff;border: 1px dotted black;border-radius: 0.25em;box-sizing: border-box;margin-bottom: 0.5em;}#sk-container-id-2 div.sk-estimator:hover {background-color: #d4ebff;}#sk-container-id-2 div.sk-parallel-item::after {content: \"\";width: 100%;border-bottom: 1px solid gray;flex-grow: 1;}#sk-container-id-2 div.sk-label:hover label.sk-toggleable__label {background-color: #d4ebff;}#sk-container-id-2 div.sk-serial::before {content: \"\";position: absolute;border-left: 1px solid gray;box-sizing: border-box;top: 0;bottom: 0;left: 50%;z-index: 0;}#sk-container-id-2 div.sk-serial {display: flex;flex-direction: column;align-items: center;background-color: white;padding-right: 0.2em;padding-left: 0.2em;position: relative;}#sk-container-id-2 div.sk-item {position: relative;z-index: 1;}#sk-container-id-2 div.sk-parallel {display: flex;align-items: stretch;justify-content: center;background-color: white;position: relative;}#sk-container-id-2 div.sk-item::before, #sk-container-id-2 div.sk-parallel-item::before {content: \"\";position: absolute;border-left: 1px solid gray;box-sizing: border-box;top: 0;bottom: 0;left: 50%;z-index: -1;}#sk-container-id-2 div.sk-parallel-item {display: flex;flex-direction: column;z-index: 1;position: relative;background-color: white;}#sk-container-id-2 div.sk-parallel-item:first-child::after {align-self: flex-end;width: 50%;}#sk-container-id-2 div.sk-parallel-item:last-child::after {align-self: flex-start;width: 50%;}#sk-container-id-2 div.sk-parallel-item:only-child::after {width: 0;}#sk-container-id-2 div.sk-dashed-wrapped {border: 1px dashed gray;margin: 0 0.4em 0.5em 0.4em;box-sizing: border-box;padding-bottom: 0.4em;background-color: white;}#sk-container-id-2 div.sk-label label {font-family: monospace;font-weight: bold;display: inline-block;line-height: 1.2em;}#sk-container-id-2 div.sk-label-container {text-align: center;}#sk-container-id-2 div.sk-container {/* jupyter's `normalize.less` sets `[hidden] { display: none; }` but bootstrap.min.css set `[hidden] { display: none !important; }` so we also need the `!important` here to be able to override the default hidden behavior on the sphinx rendered scikit-learn.org. See: https://github.com/scikit-learn/scikit-learn/issues/21755 */display: inline-block !important;position: relative;}#sk-container-id-2 div.sk-text-repr-fallback {display: none;}</style><div id=\"sk-container-id-2\" class=\"sk-top-container\"><div class=\"sk-text-repr-fallback\"><pre>RandomForestClassifier(random_state=42)</pre><b>In a Jupyter environment, please rerun this cell to show the HTML representation or trust the notebook. <br />On GitHub, the HTML representation is unable to render, please try loading this page with nbviewer.org.</b></div><div class=\"sk-container\" hidden><div class=\"sk-item\"><div class=\"sk-estimator sk-toggleable\"><input class=\"sk-toggleable__control sk-hidden--visually\" id=\"sk-estimator-id-2\" type=\"checkbox\" checked><label for=\"sk-estimator-id-2\" class=\"sk-toggleable__label sk-toggleable__label-arrow\">RandomForestClassifier</label><div class=\"sk-toggleable__content\"><pre>RandomForestClassifier(random_state=42)</pre></div></div></div></div></div>"
      ],
      "text/plain": [
       "RandomForestClassifier(random_state=42)"
      ]
     },
     "execution_count": 8,
     "metadata": {},
     "output_type": "execute_result"
    }
   ],
   "source": [
    "# 4. Treinamento de um Modelo de Random Forest\n",
    "# Treinamos um Random Forest usando RandomForestClassifier do Scikit-learn.\n",
    "rf_clf = RandomForestClassifier(random_state=42)\n",
    "rf_clf.fit(X_train, y_train)"
   ]
  },
  {
   "cell_type": "code",
   "execution_count": 9,
   "id": "0b08c98b",
   "metadata": {
    "scrolled": false
   },
   "outputs": [
    {
     "name": "stdout",
     "output_type": "stream",
     "text": [
      "Decision Tree Model Evaluation\n",
      "Accuracy: 0.8492\n",
      "ROC AUC: 0.5279\n"
     ]
    },
    {
     "data": {
      "image/png": "[encoded data removed]",
      "text/plain": [
       "<Figure size 640x480 with 2 Axes>"
      ]
     },
     "metadata": {},
     "output_type": "display_data"
    },
    {
     "data": {
      "image/png": "[encoded data removed]",
      "text/plain": [
       "<Figure size 640x480 with 1 Axes>"
      ]
     },
     "metadata": {},
     "output_type": "display_data"
    },
    {
     "name": "stdout",
     "output_type": "stream",
     "text": [
      "Random Forest Model Evaluation\n",
      "Accuracy: 0.9196\n",
      "ROC AUC: 0.6780\n"
     ]
    },
    {
     "data": {
      "image/png": "[encoded data removed]",
      "text/plain": [
       "<Figure size 640x480 with 2 Axes>"
      ]
     },
     "metadata": {},
     "output_type": "display_data"
    },
    {
     "data": {
      "image/png": "[encoded data removed]",
      "text/plain": [
       "<Figure size 640x480 with 1 Axes>"
      ]
     },
     "metadata": {},
     "output_type": "display_data"
    }
   ],
   "source": [
    "# 5. Avaliação dos Modelos\n",
    "# Avaliamos os modelos usando métricas como Acurácia, Matriz de Confusão, ROC-AUC, etc.\n",
    "def evaluate_model(clf, X_test, y_test):\n",
    "    y_pred = clf.predict(X_test)\n",
    "    y_proba = clf.predict_proba(X_test)[:, 1]\n",
    "\n",
    "    acc = accuracy_score(y_test, y_pred)\n",
    "    cm = confusion_matrix(y_test, y_pred)\n",
    "    roc_auc = roc_auc_score(y_test, y_proba)\n",
    "    fpr, tpr, _ = roc_curve(y_test, y_proba)\n",
    "\n",
    "    print(f'Accuracy: {acc:.4f}')\n",
    "    print(f'ROC AUC: {roc_auc:.4f}')\n",
    "    sns.heatmap(cm, annot=True, fmt='d', cmap='Blues')\n",
    "    plt.title('Confusion Matrix')\n",
    "    plt.xlabel('Predicted')\n",
    "    plt.ylabel('Actual')\n",
    "    plt.show()\n",
    "\n",
    "    plt.plot(fpr, tpr, label=f'ROC curve (area = {roc_auc:.4f})')\n",
    "    plt.plot([0, 1], [0, 1], 'k--')\n",
    "    plt.xlabel('False Positive Rate')\n",
    "    plt.ylabel('True Positive Rate')\n",
    "    plt.title('Receiver Operating Characteristic (ROC) Curve')\n",
    "    plt.legend(loc='best')\n",
    "    plt.show()\n",
    "\n",
    "print(\"Decision Tree Model Evaluation\")\n",
    "evaluate_model(dt_clf, X_test, y_test)\n",
    "\n",
    "print(\"Random Forest Model Evaluation\")\n",
    "evaluate_model(rf_clf, X_test, y_test)"
   ]
  },
  {
   "cell_type": "code",
   "execution_count": null,
   "id": "38e10437",
   "metadata": {},
   "outputs": [],
   "source": []
  },
  {
   "cell_type": "code",
   "execution_count": null,
   "id": "658a0623",
   "metadata": {},
   "outputs": [],
   "source": [
    "pip install graphviz"
   ]
  },
  {
   "cell_type": "code",
   "execution_count": null,
   "id": "ee375df7",
   "metadata": {},
   "outputs": [],
   "source": []
  },
  {
   "cell_type": "code",
   "execution_count": null,
   "id": "310e4e8c",
   "metadata": {},
   "outputs": [],
   "source": []
  },
  {
   "cell_type": "code",
   "execution_count": null,
   "id": "cbd2b535",
   "metadata": {},
   "outputs": [],
   "source": []
  },
  {
   "cell_type": "markdown",
   "id": "3c38987d",
   "metadata": {},
   "source": [
    "## Arvore de Decisao 2: Base df_dados_sem_dummies"
   ]
  },
  {
   "cell_type": "code",
   "execution_count": 10,
   "id": "67d65fa7",
   "metadata": {},
   "outputs": [],
   "source": [
    "colunas_selecionadas = ['days_birth', 'days_employed', 'ext_source_2', 'amt_annuity', \n",
    "                 'amt_goods_price', 'days_registration', 'amt_credit', 'amt_income_total', \n",
    "                 'cnt_children', 'cnt_fam_members', 'flag_phone', 'region_rating_client', \n",
    "                 'target'] \n",
    "    \n",
    "df_dados_sem_dummies = df_dados_sem_nulos[colunas_selecionadas]"
   ]
  },
  {
   "cell_type": "code",
   "execution_count": 11,
   "id": "9e2130ee",
   "metadata": {},
   "outputs": [
    {
     "data": {
      "text/html": [
       "<div>\n",
       "<style scoped>\n",
       "    .dataframe tbody tr th:only-of-type {\n",
       "        vertical-align: middle;\n",
       "    }\n",
       "\n",
       "    .dataframe tbody tr th {\n",
       "        vertical-align: top;\n",
       "    }\n",
       "\n",
       "    .dataframe thead th {\n",
       "        text-align: right;\n",
       "    }\n",
       "</style>\n",
       "<table border=\"1\" class=\"dataframe\">\n",
       "  <thead>\n",
       "    <tr style=\"text-align: right;\">\n",
       "      <th></th>\n",
       "      <th>days_birth</th>\n",
       "      <th>days_employed</th>\n",
       "      <th>ext_source_2</th>\n",
       "      <th>amt_annuity</th>\n",
       "      <th>amt_goods_price</th>\n",
       "      <th>days_registration</th>\n",
       "      <th>amt_credit</th>\n",
       "      <th>amt_income_total</th>\n",
       "      <th>cnt_children</th>\n",
       "      <th>cnt_fam_members</th>\n",
       "      <th>flag_phone</th>\n",
       "      <th>region_rating_client</th>\n",
       "      <th>target</th>\n",
       "    </tr>\n",
       "  </thead>\n",
       "  <tbody>\n",
       "    <tr>\n",
       "      <th>0</th>\n",
       "      <td>-9461</td>\n",
       "      <td>-637</td>\n",
       "      <td>0.262949</td>\n",
       "      <td>24700.5</td>\n",
       "      <td>351000.0</td>\n",
       "      <td>-3648.0</td>\n",
       "      <td>406597.5</td>\n",
       "      <td>202500.0</td>\n",
       "      <td>0</td>\n",
       "      <td>1.0</td>\n",
       "      <td>1</td>\n",
       "      <td>2</td>\n",
       "      <td>1</td>\n",
       "    </tr>\n",
       "    <tr>\n",
       "      <th>1</th>\n",
       "      <td>-16765</td>\n",
       "      <td>-1188</td>\n",
       "      <td>0.622246</td>\n",
       "      <td>35698.5</td>\n",
       "      <td>1129500.0</td>\n",
       "      <td>-1186.0</td>\n",
       "      <td>1293502.5</td>\n",
       "      <td>270000.0</td>\n",
       "      <td>0</td>\n",
       "      <td>2.0</td>\n",
       "      <td>1</td>\n",
       "      <td>1</td>\n",
       "      <td>0</td>\n",
       "    </tr>\n",
       "    <tr>\n",
       "      <th>2</th>\n",
       "      <td>-19046</td>\n",
       "      <td>-225</td>\n",
       "      <td>0.555912</td>\n",
       "      <td>6750.0</td>\n",
       "      <td>135000.0</td>\n",
       "      <td>-4260.0</td>\n",
       "      <td>135000.0</td>\n",
       "      <td>67500.0</td>\n",
       "      <td>0</td>\n",
       "      <td>1.0</td>\n",
       "      <td>1</td>\n",
       "      <td>2</td>\n",
       "      <td>0</td>\n",
       "    </tr>\n",
       "    <tr>\n",
       "      <th>3</th>\n",
       "      <td>-19005</td>\n",
       "      <td>-3039</td>\n",
       "      <td>0.650442</td>\n",
       "      <td>29686.5</td>\n",
       "      <td>297000.0</td>\n",
       "      <td>-9833.0</td>\n",
       "      <td>312682.5</td>\n",
       "      <td>135000.0</td>\n",
       "      <td>0</td>\n",
       "      <td>2.0</td>\n",
       "      <td>0</td>\n",
       "      <td>2</td>\n",
       "      <td>0</td>\n",
       "    </tr>\n",
       "    <tr>\n",
       "      <th>4</th>\n",
       "      <td>-19932</td>\n",
       "      <td>-3038</td>\n",
       "      <td>0.322738</td>\n",
       "      <td>21865.5</td>\n",
       "      <td>513000.0</td>\n",
       "      <td>-4311.0</td>\n",
       "      <td>513000.0</td>\n",
       "      <td>121500.0</td>\n",
       "      <td>0</td>\n",
       "      <td>1.0</td>\n",
       "      <td>0</td>\n",
       "      <td>2</td>\n",
       "      <td>0</td>\n",
       "    </tr>\n",
       "    <tr>\n",
       "      <th>...</th>\n",
       "      <td>...</td>\n",
       "      <td>...</td>\n",
       "      <td>...</td>\n",
       "      <td>...</td>\n",
       "      <td>...</td>\n",
       "      <td>...</td>\n",
       "      <td>...</td>\n",
       "      <td>...</td>\n",
       "      <td>...</td>\n",
       "      <td>...</td>\n",
       "      <td>...</td>\n",
       "      <td>...</td>\n",
       "      <td>...</td>\n",
       "    </tr>\n",
       "    <tr>\n",
       "      <th>307506</th>\n",
       "      <td>-9327</td>\n",
       "      <td>-236</td>\n",
       "      <td>0.681632</td>\n",
       "      <td>27558.0</td>\n",
       "      <td>225000.0</td>\n",
       "      <td>-8456.0</td>\n",
       "      <td>254700.0</td>\n",
       "      <td>157500.0</td>\n",
       "      <td>0</td>\n",
       "      <td>1.0</td>\n",
       "      <td>0</td>\n",
       "      <td>1</td>\n",
       "      <td>0</td>\n",
       "    </tr>\n",
       "    <tr>\n",
       "      <th>307507</th>\n",
       "      <td>-20775</td>\n",
       "      <td>365243</td>\n",
       "      <td>0.115992</td>\n",
       "      <td>12001.5</td>\n",
       "      <td>225000.0</td>\n",
       "      <td>-4388.0</td>\n",
       "      <td>269550.0</td>\n",
       "      <td>72000.0</td>\n",
       "      <td>0</td>\n",
       "      <td>1.0</td>\n",
       "      <td>1</td>\n",
       "      <td>2</td>\n",
       "      <td>0</td>\n",
       "    </tr>\n",
       "    <tr>\n",
       "      <th>307508</th>\n",
       "      <td>-14966</td>\n",
       "      <td>-7921</td>\n",
       "      <td>0.535722</td>\n",
       "      <td>29979.0</td>\n",
       "      <td>585000.0</td>\n",
       "      <td>-6737.0</td>\n",
       "      <td>677664.0</td>\n",
       "      <td>153000.0</td>\n",
       "      <td>0</td>\n",
       "      <td>1.0</td>\n",
       "      <td>0</td>\n",
       "      <td>3</td>\n",
       "      <td>0</td>\n",
       "    </tr>\n",
       "    <tr>\n",
       "      <th>307509</th>\n",
       "      <td>-11961</td>\n",
       "      <td>-4786</td>\n",
       "      <td>0.514163</td>\n",
       "      <td>20205.0</td>\n",
       "      <td>319500.0</td>\n",
       "      <td>-2562.0</td>\n",
       "      <td>370107.0</td>\n",
       "      <td>171000.0</td>\n",
       "      <td>0</td>\n",
       "      <td>2.0</td>\n",
       "      <td>0</td>\n",
       "      <td>2</td>\n",
       "      <td>1</td>\n",
       "    </tr>\n",
       "    <tr>\n",
       "      <th>307510</th>\n",
       "      <td>-16856</td>\n",
       "      <td>-1262</td>\n",
       "      <td>0.708569</td>\n",
       "      <td>49117.5</td>\n",
       "      <td>675000.0</td>\n",
       "      <td>-5128.0</td>\n",
       "      <td>675000.0</td>\n",
       "      <td>157500.0</td>\n",
       "      <td>0</td>\n",
       "      <td>2.0</td>\n",
       "      <td>1</td>\n",
       "      <td>1</td>\n",
       "      <td>0</td>\n",
       "    </tr>\n",
       "  </tbody>\n",
       "</table>\n",
       "<p>306562 rows × 13 columns</p>\n",
       "</div>"
      ],
      "text/plain": [
       "        days_birth  days_employed  ext_source_2  amt_annuity  amt_goods_price  \\\n",
       "0            -9461           -637      0.262949      24700.5         351000.0   \n",
       "1           -16765          -1188      0.622246      35698.5        1129500.0   \n",
       "2           -19046           -225      0.555912       6750.0         135000.0   \n",
       "3           -19005          -3039      0.650442      29686.5         297000.0   \n",
       "4           -19932          -3038      0.322738      21865.5         513000.0   \n",
       "...            ...            ...           ...          ...              ...   \n",
       "307506       -9327           -236      0.681632      27558.0         225000.0   \n",
       "307507      -20775         365243      0.115992      12001.5         225000.0   \n",
       "307508      -14966          -7921      0.535722      29979.0         585000.0   \n",
       "307509      -11961          -4786      0.514163      20205.0         319500.0   \n",
       "307510      -16856          -1262      0.708569      49117.5         675000.0   \n",
       "\n",
       "        days_registration  amt_credit  amt_income_total  cnt_children  \\\n",
       "0                 -3648.0    406597.5          202500.0             0   \n",
       "1                 -1186.0   1293502.5          270000.0             0   \n",
       "2                 -4260.0    135000.0           67500.0             0   \n",
       "3                 -9833.0    312682.5          135000.0             0   \n",
       "4                 -4311.0    513000.0          121500.0             0   \n",
       "...                   ...         ...               ...           ...   \n",
       "307506            -8456.0    254700.0          157500.0             0   \n",
       "307507            -4388.0    269550.0           72000.0             0   \n",
       "307508            -6737.0    677664.0          153000.0             0   \n",
       "307509            -2562.0    370107.0          171000.0             0   \n",
       "307510            -5128.0    675000.0          157500.0             0   \n",
       "\n",
       "        cnt_fam_members  flag_phone  region_rating_client  target  \n",
       "0                   1.0           1                     2       1  \n",
       "1                   2.0           1                     1       0  \n",
       "2                   1.0           1                     2       0  \n",
       "3                   2.0           0                     2       0  \n",
       "4                   1.0           0                     2       0  \n",
       "...                 ...         ...                   ...     ...  \n",
       "307506              1.0           0                     1       0  \n",
       "307507              1.0           1                     2       0  \n",
       "307508              1.0           0                     3       0  \n",
       "307509              2.0           0                     2       1  \n",
       "307510              2.0           1                     1       0  \n",
       "\n",
       "[306562 rows x 13 columns]"
      ]
     },
     "execution_count": 11,
     "metadata": {},
     "output_type": "execute_result"
    }
   ],
   "source": [
    "df_dados_sem_dummies"
   ]
  },
  {
   "cell_type": "code",
   "execution_count": 12,
   "id": "bce2b859",
   "metadata": {},
   "outputs": [],
   "source": [
    "# 2. Divisão do Conjunto de Dados\n",
    "# Dividimos os dados em conjuntos de treino e teste para treinar e avaliar os modelos.\n",
    "\n",
    "# Separar as features (X) e o target (y)\n",
    "X = df_dados_sem_dummies.drop(columns=['target'])\n",
    "y = df_dados_sem_dummies['target']\n",
    "\n",
    "# Transformar variáveis categóricas em variáveis dummy\n",
    "X = pd.get_dummies(X)\n",
    "\n",
    "# Dividir o conjunto de dados em treino e teste\n",
    "X_train, X_test, y_train, y_test = train_test_split(X, y, test_size=0.2, random_state=42)\n"
   ]
  },
  {
   "cell_type": "code",
   "execution_count": 13,
   "id": "2e7b4cf3",
   "metadata": {},
   "outputs": [
    {
     "data": {
      "text/html": [
       "<style>#sk-container-id-3 {color: black;background-color: white;}#sk-container-id-3 pre{padding: 0;}#sk-container-id-3 div.sk-toggleable {background-color: white;}#sk-container-id-3 label.sk-toggleable__label {cursor: pointer;display: block;width: 100%;margin-bottom: 0;padding: 0.3em;box-sizing: border-box;text-align: center;}#sk-container-id-3 label.sk-toggleable__label-arrow:before {content: \"▸\";float: left;margin-right: 0.25em;color: #696969;}#sk-container-id-3 label.sk-toggleable__label-arrow:hover:before {color: black;}#sk-container-id-3 div.sk-estimator:hover label.sk-toggleable__label-arrow:before {color: black;}#sk-container-id-3 div.sk-toggleable__content {max-height: 0;max-width: 0;overflow: hidden;text-align: left;background-color: #f0f8ff;}#sk-container-id-3 div.sk-toggleable__content pre {margin: 0.2em;color: black;border-radius: 0.25em;background-color: #f0f8ff;}#sk-container-id-3 input.sk-toggleable__control:checked~div.sk-toggleable__content {max-height: 200px;max-width: 100%;overflow: auto;}#sk-container-id-3 input.sk-toggleable__control:checked~label.sk-toggleable__label-arrow:before {content: \"▾\";}#sk-container-id-3 div.sk-estimator input.sk-toggleable__control:checked~label.sk-toggleable__label {background-color: #d4ebff;}#sk-container-id-3 div.sk-label input.sk-toggleable__control:checked~label.sk-toggleable__label {background-color: #d4ebff;}#sk-container-id-3 input.sk-hidden--visually {border: 0;clip: rect(1px 1px 1px 1px);clip: rect(1px, 1px, 1px, 1px);height: 1px;margin: -1px;overflow: hidden;padding: 0;position: absolute;width: 1px;}#sk-container-id-3 div.sk-estimator {font-family: monospace;background-color: #f0f8ff;border: 1px dotted black;border-radius: 0.25em;box-sizing: border-box;margin-bottom: 0.5em;}#sk-container-id-3 div.sk-estimator:hover {background-color: #d4ebff;}#sk-container-id-3 div.sk-parallel-item::after {content: \"\";width: 100%;border-bottom: 1px solid gray;flex-grow: 1;}#sk-container-id-3 div.sk-label:hover label.sk-toggleable__label {background-color: #d4ebff;}#sk-container-id-3 div.sk-serial::before {content: \"\";position: absolute;border-left: 1px solid gray;box-sizing: border-box;top: 0;bottom: 0;left: 50%;z-index: 0;}#sk-container-id-3 div.sk-serial {display: flex;flex-direction: column;align-items: center;background-color: white;padding-right: 0.2em;padding-left: 0.2em;position: relative;}#sk-container-id-3 div.sk-item {position: relative;z-index: 1;}#sk-container-id-3 div.sk-parallel {display: flex;align-items: stretch;justify-content: center;background-color: white;position: relative;}#sk-container-id-3 div.sk-item::before, #sk-container-id-3 div.sk-parallel-item::before {content: \"\";position: absolute;border-left: 1px solid gray;box-sizing: border-box;top: 0;bottom: 0;left: 50%;z-index: -1;}#sk-container-id-3 div.sk-parallel-item {display: flex;flex-direction: column;z-index: 1;position: relative;background-color: white;}#sk-container-id-3 div.sk-parallel-item:first-child::after {align-self: flex-end;width: 50%;}#sk-container-id-3 div.sk-parallel-item:last-child::after {align-self: flex-start;width: 50%;}#sk-container-id-3 div.sk-parallel-item:only-child::after {width: 0;}#sk-container-id-3 div.sk-dashed-wrapped {border: 1px dashed gray;margin: 0 0.4em 0.5em 0.4em;box-sizing: border-box;padding-bottom: 0.4em;background-color: white;}#sk-container-id-3 div.sk-label label {font-family: monospace;font-weight: bold;display: inline-block;line-height: 1.2em;}#sk-container-id-3 div.sk-label-container {text-align: center;}#sk-container-id-3 div.sk-container {/* jupyter's `normalize.less` sets `[hidden] { display: none; }` but bootstrap.min.css set `[hidden] { display: none !important; }` so we also need the `!important` here to be able to override the default hidden behavior on the sphinx rendered scikit-learn.org. See: https://github.com/scikit-learn/scikit-learn/issues/21755 */display: inline-block !important;position: relative;}#sk-container-id-3 div.sk-text-repr-fallback {display: none;}</style><div id=\"sk-container-id-3\" class=\"sk-top-container\"><div class=\"sk-text-repr-fallback\"><pre>DecisionTreeClassifier(random_state=42)</pre><b>In a Jupyter environment, please rerun this cell to show the HTML representation or trust the notebook. <br />On GitHub, the HTML representation is unable to render, please try loading this page with nbviewer.org.</b></div><div class=\"sk-container\" hidden><div class=\"sk-item\"><div class=\"sk-estimator sk-toggleable\"><input class=\"sk-toggleable__control sk-hidden--visually\" id=\"sk-estimator-id-3\" type=\"checkbox\" checked><label for=\"sk-estimator-id-3\" class=\"sk-toggleable__label sk-toggleable__label-arrow\">DecisionTreeClassifier</label><div class=\"sk-toggleable__content\"><pre>DecisionTreeClassifier(random_state=42)</pre></div></div></div></div></div>"
      ],
      "text/plain": [
       "DecisionTreeClassifier(random_state=42)"
      ]
     },
     "execution_count": 13,
     "metadata": {},
     "output_type": "execute_result"
    }
   ],
   "source": [
    "# 3. Treinamento de um Modelo de Árvore de Decisão\n",
    "# Treinamos uma Árvore de Decisão usando DecisionTreeClassifier do Scikit-learn.\n",
    "dt_clf = DecisionTreeClassifier(random_state=42)\n",
    "dt_clf.fit(X_train, y_train)"
   ]
  },
  {
   "cell_type": "code",
   "execution_count": 14,
   "id": "5e529109",
   "metadata": {},
   "outputs": [
    {
     "data": {
      "text/html": [
       "<style>#sk-container-id-4 {color: black;background-color: white;}#sk-container-id-4 pre{padding: 0;}#sk-container-id-4 div.sk-toggleable {background-color: white;}#sk-container-id-4 label.sk-toggleable__label {cursor: pointer;display: block;width: 100%;margin-bottom: 0;padding: 0.3em;box-sizing: border-box;text-align: center;}#sk-container-id-4 label.sk-toggleable__label-arrow:before {content: \"▸\";float: left;margin-right: 0.25em;color: #696969;}#sk-container-id-4 label.sk-toggleable__label-arrow:hover:before {color: black;}#sk-container-id-4 div.sk-estimator:hover label.sk-toggleable__label-arrow:before {color: black;}#sk-container-id-4 div.sk-toggleable__content {max-height: 0;max-width: 0;overflow: hidden;text-align: left;background-color: #f0f8ff;}#sk-container-id-4 div.sk-toggleable__content pre {margin: 0.2em;color: black;border-radius: 0.25em;background-color: #f0f8ff;}#sk-container-id-4 input.sk-toggleable__control:checked~div.sk-toggleable__content {max-height: 200px;max-width: 100%;overflow: auto;}#sk-container-id-4 input.sk-toggleable__control:checked~label.sk-toggleable__label-arrow:before {content: \"▾\";}#sk-container-id-4 div.sk-estimator input.sk-toggleable__control:checked~label.sk-toggleable__label {background-color: #d4ebff;}#sk-container-id-4 div.sk-label input.sk-toggleable__control:checked~label.sk-toggleable__label {background-color: #d4ebff;}#sk-container-id-4 input.sk-hidden--visually {border: 0;clip: rect(1px 1px 1px 1px);clip: rect(1px, 1px, 1px, 1px);height: 1px;margin: -1px;overflow: hidden;padding: 0;position: absolute;width: 1px;}#sk-container-id-4 div.sk-estimator {font-family: monospace;background-color: #f0f8ff;border: 1px dotted black;border-radius: 0.25em;box-sizing: border-box;margin-bottom: 0.5em;}#sk-container-id-4 div.sk-estimator:hover {background-color: #d4ebff;}#sk-container-id-4 div.sk-parallel-item::after {content: \"\";width: 100%;border-bottom: 1px solid gray;flex-grow: 1;}#sk-container-id-4 div.sk-label:hover label.sk-toggleable__label {background-color: #d4ebff;}#sk-container-id-4 div.sk-serial::before {content: \"\";position: absolute;border-left: 1px solid gray;box-sizing: border-box;top: 0;bottom: 0;left: 50%;z-index: 0;}#sk-container-id-4 div.sk-serial {display: flex;flex-direction: column;align-items: center;background-color: white;padding-right: 0.2em;padding-left: 0.2em;position: relative;}#sk-container-id-4 div.sk-item {position: relative;z-index: 1;}#sk-container-id-4 div.sk-parallel {display: flex;align-items: stretch;justify-content: center;background-color: white;position: relative;}#sk-container-id-4 div.sk-item::before, #sk-container-id-4 div.sk-parallel-item::before {content: \"\";position: absolute;border-left: 1px solid gray;box-sizing: border-box;top: 0;bottom: 0;left: 50%;z-index: -1;}#sk-container-id-4 div.sk-parallel-item {display: flex;flex-direction: column;z-index: 1;position: relative;background-color: white;}#sk-container-id-4 div.sk-parallel-item:first-child::after {align-self: flex-end;width: 50%;}#sk-container-id-4 div.sk-parallel-item:last-child::after {align-self: flex-start;width: 50%;}#sk-container-id-4 div.sk-parallel-item:only-child::after {width: 0;}#sk-container-id-4 div.sk-dashed-wrapped {border: 1px dashed gray;margin: 0 0.4em 0.5em 0.4em;box-sizing: border-box;padding-bottom: 0.4em;background-color: white;}#sk-container-id-4 div.sk-label label {font-family: monospace;font-weight: bold;display: inline-block;line-height: 1.2em;}#sk-container-id-4 div.sk-label-container {text-align: center;}#sk-container-id-4 div.sk-container {/* jupyter's `normalize.less` sets `[hidden] { display: none; }` but bootstrap.min.css set `[hidden] { display: none !important; }` so we also need the `!important` here to be able to override the default hidden behavior on the sphinx rendered scikit-learn.org. See: https://github.com/scikit-learn/scikit-learn/issues/21755 */display: inline-block !important;position: relative;}#sk-container-id-4 div.sk-text-repr-fallback {display: none;}</style><div id=\"sk-container-id-4\" class=\"sk-top-container\"><div class=\"sk-text-repr-fallback\"><pre>RandomForestClassifier(random_state=42)</pre><b>In a Jupyter environment, please rerun this cell to show the HTML representation or trust the notebook. <br />On GitHub, the HTML representation is unable to render, please try loading this page with nbviewer.org.</b></div><div class=\"sk-container\" hidden><div class=\"sk-item\"><div class=\"sk-estimator sk-toggleable\"><input class=\"sk-toggleable__control sk-hidden--visually\" id=\"sk-estimator-id-4\" type=\"checkbox\" checked><label for=\"sk-estimator-id-4\" class=\"sk-toggleable__label sk-toggleable__label-arrow\">RandomForestClassifier</label><div class=\"sk-toggleable__content\"><pre>RandomForestClassifier(random_state=42)</pre></div></div></div></div></div>"
      ],
      "text/plain": [
       "RandomForestClassifier(random_state=42)"
      ]
     },
     "execution_count": 14,
     "metadata": {},
     "output_type": "execute_result"
    }
   ],
   "source": [
    "# 4. Treinamento de um Modelo de Random Forest\n",
    "# Treinamos um Random Forest usando RandomForestClassifier do Scikit-learn.\n",
    "rf_clf = RandomForestClassifier(random_state=42)\n",
    "rf_clf.fit(X_train, y_train)"
   ]
  },
  {
   "cell_type": "code",
   "execution_count": 15,
   "id": "ace95880",
   "metadata": {
    "scrolled": false
   },
   "outputs": [
    {
     "name": "stdout",
     "output_type": "stream",
     "text": [
      "Decision Tree Model Evaluation\n",
      "Accuracy: 0.8480\n",
      "ROC AUC: 0.5299\n"
     ]
    },
    {
     "data": {
      "image/png": "[encoded data removed]",
      "text/plain": [
       "<Figure size 640x480 with 2 Axes>"
      ]
     },
     "metadata": {},
     "output_type": "display_data"
    },
    {
     "data": {
      "image/png": "[encoded data removed]",
      "text/plain": [
       "<Figure size 640x480 with 1 Axes>"
      ]
     },
     "metadata": {},
     "output_type": "display_data"
    },
    {
     "name": "stdout",
     "output_type": "stream",
     "text": [
      "Random Forest Model Evaluation\n",
      "Accuracy: 0.9197\n",
      "ROC AUC: 0.6712\n"
     ]
    },
    {
     "data": {
      "image/png": "[encoded data removed]",
      "text/plain": [
       "<Figure size 640x480 with 2 Axes>"
      ]
     },
     "metadata": {},
     "output_type": "display_data"
    },
    {
     "data": {
      "image/png": "[encoded data removed]",
      "text/plain": [
       "<Figure size 640x480 with 1 Axes>"
      ]
     },
     "metadata": {},
     "output_type": "display_data"
    }
   ],
   "source": [
    "# 5. Avaliação dos Modelos\n",
    "# Avaliamos os modelos usando métricas como Acurácia, Matriz de Confusão, ROC-AUC, etc.\n",
    "def evaluate_model(clf, X_test, y_test):\n",
    "    y_pred = clf.predict(X_test)\n",
    "    y_proba = clf.predict_proba(X_test)[:, 1]\n",
    "\n",
    "    acc = accuracy_score(y_test, y_pred)\n",
    "    cm = confusion_matrix(y_test, y_pred)\n",
    "    roc_auc = roc_auc_score(y_test, y_proba)\n",
    "    fpr, tpr, _ = roc_curve(y_test, y_proba)\n",
    "\n",
    "    print(f'Accuracy: {acc:.4f}')\n",
    "    print(f'ROC AUC: {roc_auc:.4f}')\n",
    "    sns.heatmap(cm, annot=True, fmt='d', cmap='Blues')\n",
    "    plt.title('Confusion Matrix')\n",
    "    plt.xlabel('Predicted')\n",
    "    plt.ylabel('Actual')\n",
    "    plt.show()\n",
    "\n",
    "    plt.plot(fpr, tpr, label=f'ROC curve (area = {roc_auc:.4f})')\n",
    "    plt.plot([0, 1], [0, 1], 'k--')\n",
    "    plt.xlabel('False Positive Rate')\n",
    "    plt.ylabel('True Positive Rate')\n",
    "    plt.title('Receiver Operating Characteristic (ROC) Curve')\n",
    "    plt.legend(loc='best')\n",
    "    plt.show()\n",
    "\n",
    "print(\"Decision Tree Model Evaluation\")\n",
    "evaluate_model(dt_clf, X_test, y_test)\n",
    "\n",
    "print(\"Random Forest Model Evaluation\")\n",
    "evaluate_model(rf_clf, X_test, y_test)"
   ]
  },
  {
   "cell_type": "code",
   "execution_count": null,
   "id": "0040b726",
   "metadata": {},
   "outputs": [],
   "source": []
  },
  {
   "cell_type": "markdown",
   "id": "5af9513e",
   "metadata": {},
   "source": [
    "## Arvore de Decisao 3: Base df_dados_balanceados"
   ]
  },
  {
   "cell_type": "markdown",
   "id": "3ff2f255",
   "metadata": {},
   "source": [
    "### Balanceando a base para tentar melhorar o modelo arvores decisao"
   ]
  },
  {
   "cell_type": "code",
   "execution_count": 16,
   "id": "dc78b631",
   "metadata": {},
   "outputs": [
    {
     "name": "stdout",
     "output_type": "stream",
     "text": [
      "1    281810\n",
      "0    281810\n",
      "Name: target, dtype: int64\n"
     ]
    }
   ],
   "source": [
    "from imblearn.over_sampling import RandomOverSampler\n",
    "from sklearn.model_selection import train_test_split\n",
    "\n",
    "# Separando os features e o target\n",
    "X = df_dados_sem_nulos.drop('target', axis=1)\n",
    "y = df_dados_sem_nulos['target']\n",
    "\n",
    "# Aplicando Random Oversampling\n",
    "oversampler = RandomOverSampler(random_state=42)\n",
    "X_resampled, y_resampled = oversampler.fit_resample(X, y)\n",
    "\n",
    "# Verificando o balanceamento das classes após o oversampling\n",
    "print(pd.Series(y_resampled).value_counts())\n",
    "\n",
    "# Dividindo em conjunto de treino e teste\n",
    "X_train, X_test, y_train, y_test = train_test_split(X_resampled, y_resampled, test_size=0.2, random_state=42)\n",
    "\n",
    "# Agora você pode treinar seus modelos de árvore de decisão ou outros com X_train, y_train\n",
    "# e avaliá-los com X_test, y_test"
   ]
  },
  {
   "cell_type": "code",
   "execution_count": 17,
   "id": "764db1ee",
   "metadata": {},
   "outputs": [
    {
     "data": {
      "text/html": [
       "<style>#sk-container-id-5 {color: black;background-color: white;}#sk-container-id-5 pre{padding: 0;}#sk-container-id-5 div.sk-toggleable {background-color: white;}#sk-container-id-5 label.sk-toggleable__label {cursor: pointer;display: block;width: 100%;margin-bottom: 0;padding: 0.3em;box-sizing: border-box;text-align: center;}#sk-container-id-5 label.sk-toggleable__label-arrow:before {content: \"▸\";float: left;margin-right: 0.25em;color: #696969;}#sk-container-id-5 label.sk-toggleable__label-arrow:hover:before {color: black;}#sk-container-id-5 div.sk-estimator:hover label.sk-toggleable__label-arrow:before {color: black;}#sk-container-id-5 div.sk-toggleable__content {max-height: 0;max-width: 0;overflow: hidden;text-align: left;background-color: #f0f8ff;}#sk-container-id-5 div.sk-toggleable__content pre {margin: 0.2em;color: black;border-radius: 0.25em;background-color: #f0f8ff;}#sk-container-id-5 input.sk-toggleable__control:checked~div.sk-toggleable__content {max-height: 200px;max-width: 100%;overflow: auto;}#sk-container-id-5 input.sk-toggleable__control:checked~label.sk-toggleable__label-arrow:before {content: \"▾\";}#sk-container-id-5 div.sk-estimator input.sk-toggleable__control:checked~label.sk-toggleable__label {background-color: #d4ebff;}#sk-container-id-5 div.sk-label input.sk-toggleable__control:checked~label.sk-toggleable__label {background-color: #d4ebff;}#sk-container-id-5 input.sk-hidden--visually {border: 0;clip: rect(1px 1px 1px 1px);clip: rect(1px, 1px, 1px, 1px);height: 1px;margin: -1px;overflow: hidden;padding: 0;position: absolute;width: 1px;}#sk-container-id-5 div.sk-estimator {font-family: monospace;background-color: #f0f8ff;border: 1px dotted black;border-radius: 0.25em;box-sizing: border-box;margin-bottom: 0.5em;}#sk-container-id-5 div.sk-estimator:hover {background-color: #d4ebff;}#sk-container-id-5 div.sk-parallel-item::after {content: \"\";width: 100%;border-bottom: 1px solid gray;flex-grow: 1;}#sk-container-id-5 div.sk-label:hover label.sk-toggleable__label {background-color: #d4ebff;}#sk-container-id-5 div.sk-serial::before {content: \"\";position: absolute;border-left: 1px solid gray;box-sizing: border-box;top: 0;bottom: 0;left: 50%;z-index: 0;}#sk-container-id-5 div.sk-serial {display: flex;flex-direction: column;align-items: center;background-color: white;padding-right: 0.2em;padding-left: 0.2em;position: relative;}#sk-container-id-5 div.sk-item {position: relative;z-index: 1;}#sk-container-id-5 div.sk-parallel {display: flex;align-items: stretch;justify-content: center;background-color: white;position: relative;}#sk-container-id-5 div.sk-item::before, #sk-container-id-5 div.sk-parallel-item::before {content: \"\";position: absolute;border-left: 1px solid gray;box-sizing: border-box;top: 0;bottom: 0;left: 50%;z-index: -1;}#sk-container-id-5 div.sk-parallel-item {display: flex;flex-direction: column;z-index: 1;position: relative;background-color: white;}#sk-container-id-5 div.sk-parallel-item:first-child::after {align-self: flex-end;width: 50%;}#sk-container-id-5 div.sk-parallel-item:last-child::after {align-self: flex-start;width: 50%;}#sk-container-id-5 div.sk-parallel-item:only-child::after {width: 0;}#sk-container-id-5 div.sk-dashed-wrapped {border: 1px dashed gray;margin: 0 0.4em 0.5em 0.4em;box-sizing: border-box;padding-bottom: 0.4em;background-color: white;}#sk-container-id-5 div.sk-label label {font-family: monospace;font-weight: bold;display: inline-block;line-height: 1.2em;}#sk-container-id-5 div.sk-label-container {text-align: center;}#sk-container-id-5 div.sk-container {/* jupyter's `normalize.less` sets `[hidden] { display: none; }` but bootstrap.min.css set `[hidden] { display: none !important; }` so we also need the `!important` here to be able to override the default hidden behavior on the sphinx rendered scikit-learn.org. See: https://github.com/scikit-learn/scikit-learn/issues/21755 */display: inline-block !important;position: relative;}#sk-container-id-5 div.sk-text-repr-fallback {display: none;}</style><div id=\"sk-container-id-5\" class=\"sk-top-container\"><div class=\"sk-text-repr-fallback\"><pre>DecisionTreeClassifier(random_state=42)</pre><b>In a Jupyter environment, please rerun this cell to show the HTML representation or trust the notebook. <br />On GitHub, the HTML representation is unable to render, please try loading this page with nbviewer.org.</b></div><div class=\"sk-container\" hidden><div class=\"sk-item\"><div class=\"sk-estimator sk-toggleable\"><input class=\"sk-toggleable__control sk-hidden--visually\" id=\"sk-estimator-id-5\" type=\"checkbox\" checked><label for=\"sk-estimator-id-5\" class=\"sk-toggleable__label sk-toggleable__label-arrow\">DecisionTreeClassifier</label><div class=\"sk-toggleable__content\"><pre>DecisionTreeClassifier(random_state=42)</pre></div></div></div></div></div>"
      ],
      "text/plain": [
       "DecisionTreeClassifier(random_state=42)"
      ]
     },
     "execution_count": 17,
     "metadata": {},
     "output_type": "execute_result"
    }
   ],
   "source": [
    "# 3. Treinamento de um Modelo de Árvore de Decisão\n",
    "# Treinamos uma Árvore de Decisão usando DecisionTreeClassifier do Scikit-learn.\n",
    "dt_clf = DecisionTreeClassifier(random_state=42)\n",
    "dt_clf.fit(X_train, y_train)"
   ]
  },
  {
   "cell_type": "code",
   "execution_count": null,
   "id": "f5ff7fb2",
   "metadata": {},
   "outputs": [],
   "source": [
    "# 4. Treinamento de um Modelo de Random Forest\n",
    "# Treinamos um Random Forest usando RandomForestClassifier do Scikit-learn.\n",
    "rf_clf = RandomForestClassifier(random_state=42)\n",
    "rf_clf.fit(X_train, y_train)"
   ]
  },
  {
   "cell_type": "code",
   "execution_count": null,
   "id": "085f0add",
   "metadata": {},
   "outputs": [],
   "source": [
    "# 5. Avaliação dos Modelos\n",
    "# Avaliamos os modelos usando métricas como Acurácia, Matriz de Confusão, ROC-AUC, etc.\n",
    "def evaluate_model(clf, X_test, y_test):\n",
    "    y_pred = clf.predict(X_test)\n",
    "    y_proba = clf.predict_proba(X_test)[:, 1]\n",
    "\n",
    "    acc = accuracy_score(y_test, y_pred)\n",
    "    cm = confusion_matrix(y_test, y_pred)\n",
    "    roc_auc = roc_auc_score(y_test, y_proba)\n",
    "    fpr, tpr, _ = roc_curve(y_test, y_proba)\n",
    "\n",
    "    print(f'Accuracy: {acc:.4f}')\n",
    "    print(f'ROC AUC: {roc_auc:.4f}')\n",
    "    sns.heatmap(cm, annot=True, fmt='d', cmap='Blues')\n",
    "    plt.title('Confusion Matrix')\n",
    "    plt.xlabel('Predicted')\n",
    "    plt.ylabel('Actual')\n",
    "    plt.show()\n",
    "\n",
    "    plt.plot(fpr, tpr, label=f'ROC curve (area = {roc_auc:.4f})')\n",
    "    plt.plot([0, 1], [0, 1], 'k--')\n",
    "    plt.xlabel('False Positive Rate')\n",
    "    plt.ylabel('True Positive Rate')\n",
    "    plt.title('Receiver Operating Characteristic (ROC) Curve')\n",
    "    plt.legend(loc='best')\n",
    "    plt.show()\n",
    "\n",
    "print(\"Decision Tree Model Evaluation\")\n",
    "evaluate_model(dt_clf, X_test, y_test)\n",
    "\n",
    "print(\"Random Forest Model Evaluation\")\n",
    "evaluate_model(rf_clf, X_test, y_test)\n"
   ]
  },
  {
   "cell_type": "code",
   "execution_count": null,
   "id": "33d2d78d",
   "metadata": {},
   "outputs": [],
   "source": [
    "Arvore 03 (df_balanceado_undersampling)\n",
    "Decision Tree Model Evaluation\n",
    "Accuracy: 0.5652\n",
    "ROC AUC: 0.5652\n",
    "[[2821  2165]\n",
    " [ 2132   2764]]"
   ]
  },
  {
   "cell_type": "code",
   "execution_count": null,
   "id": "ac009b48",
   "metadata": {},
   "outputs": [],
   "source": []
  },
  {
   "cell_type": "code",
   "execution_count": null,
   "id": "5ba41b0a",
   "metadata": {},
   "outputs": [],
   "source": []
  },
  {
   "cell_type": "code",
   "execution_count": null,
   "id": "f1efc9f8",
   "metadata": {},
   "outputs": [],
   "source": []
  },
  {
   "cell_type": "code",
   "execution_count": null,
   "id": "3404a446",
   "metadata": {},
   "outputs": [],
   "source": []
  },
  {
   "cell_type": "code",
   "execution_count": null,
   "id": "95554cc8",
   "metadata": {},
   "outputs": [],
   "source": []
  },
  {
   "cell_type": "code",
   "execution_count": null,
   "id": "92414223",
   "metadata": {},
   "outputs": [],
   "source": []
  },
  {
   "cell_type": "code",
   "execution_count": null,
   "id": "ce58ae88",
   "metadata": {},
   "outputs": [],
   "source": []
  },
  {
   "cell_type": "code",
   "execution_count": null,
   "id": "8b63bb86",
   "metadata": {},
   "outputs": [],
   "source": []
  },
  {
   "cell_type": "code",
   "execution_count": null,
   "id": "7d0ba7f4",
   "metadata": {},
   "outputs": [],
   "source": []
  },
  {
   "cell_type": "code",
   "execution_count": null,
   "id": "6a19d07d",
   "metadata": {},
   "outputs": [],
   "source": []
  },
  {
   "cell_type": "code",
   "execution_count": null,
   "id": "266a6f98",
   "metadata": {},
   "outputs": [],
   "source": []
  },
  {
   "cell_type": "code",
   "execution_count": null,
   "id": "db8c47ec",
   "metadata": {},
   "outputs": [],
   "source": []
  },
  {
   "cell_type": "code",
   "execution_count": null,
   "id": "a6cc33b2",
   "metadata": {},
   "outputs": [],
   "source": []
  },
  {
   "cell_type": "code",
   "execution_count": null,
   "id": "96783ada",
   "metadata": {},
   "outputs": [],
   "source": []
  },
  {
   "cell_type": "code",
   "execution_count": null,
   "id": "3bef7512",
   "metadata": {},
   "outputs": [],
   "source": []
  },
  {
   "cell_type": "code",
   "execution_count": null,
   "id": "c0760989",
   "metadata": {},
   "outputs": [],
   "source": []
  },
  {
   "cell_type": "markdown",
   "id": "4fce9118",
   "metadata": {},
   "source": [
    "### Exportando resultados para analise "
   ]
  },
  {
   "cell_type": "code",
   "execution_count": null,
   "id": "047cdd2d",
   "metadata": {},
   "outputs": [],
   "source": [
    "import pandas as pd\n",
    "\n",
    "# Salvar o DataFrame como um arquivo CSV\n",
    "file_path = 'C:/Users/Hideki/Desktop/AMANDA/df_dados_sem_nulos.csv'\n",
    "#file_path = '/mnt/data/df_dados_sem_nulos.csv'\n",
    "df_dados_sem_nulos.to_csv(file_path, index=False)\n",
    "\n",
    "file_path\n"
   ]
  }
 ],
 "metadata": {
  "kernelspec": {
   "display_name": "Python 3 (ipykernel)",
   "language": "python",
   "name": "python3"
  },
  "language_info": {
   "codemirror_mode": {
    "name": "ipython",
    "version": 3
   },
   "file_extension": ".py",
   "mimetype": "text/x-python",
   "name": "python",
   "nbconvert_exporter": "python",
   "pygments_lexer": "ipython3",
   "version": "3.10.9"
  }
 },
 "nbformat": 4,
 "nbformat_minor": 5
}
